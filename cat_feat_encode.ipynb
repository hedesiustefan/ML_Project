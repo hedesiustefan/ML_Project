{
 "cells": [
  {
   "cell_type": "code",
   "execution_count": 19,
   "id": "97cc0d2e",
   "metadata": {},
   "outputs": [],
   "source": [
    "import pandas as pd\n",
    "import numpy as np\n",
    "import seaborn as sns\n",
    "import matplotlib.pyplot as plt\n",
    "from sklearn.preprocessing import StandardScaler\n",
    "from sklearn.decomposition import PCA\n",
    "from sklearn.linear_model import LinearRegression\n",
    "clean_df = pd.read_csv('no_missing_data.csv')"
   ]
  },
  {
   "cell_type": "code",
   "execution_count": 20,
   "id": "31c82c37",
   "metadata": {},
   "outputs": [
    {
     "data": {
      "text/plain": [
       "(2927, 86)"
      ]
     },
     "execution_count": 20,
     "metadata": {},
     "output_type": "execute_result"
    }
   ],
   "source": [
    "clean_df.shape"
   ]
  },
  {
   "cell_type": "code",
   "execution_count": 21,
   "id": "988a075c",
   "metadata": {},
   "outputs": [
    {
     "name": "stdout",
     "output_type": "stream",
     "text": [
      "<class 'pandas.core.frame.DataFrame'>\n",
      "RangeIndex: 2927 entries, 0 to 2926\n",
      "Data columns (total 26 columns):\n",
      " #   Column          Non-Null Count  Dtype \n",
      "---  ------          --------------  ----- \n",
      " 0   MS Zoning       2927 non-null   object\n",
      " 1   Lot Shape       2927 non-null   object\n",
      " 2   Land Contour    2927 non-null   object\n",
      " 3   Utilities       2927 non-null   object\n",
      " 4   Lot Config      2927 non-null   object\n",
      " 5   Land Slope      2927 non-null   object\n",
      " 6   Neighborhood    2927 non-null   object\n",
      " 7   Condition 1     2927 non-null   object\n",
      " 8   Condition 2     2927 non-null   object\n",
      " 9   Bldg Type       2927 non-null   object\n",
      " 10  House Style     2927 non-null   object\n",
      " 11  Roof Style      2927 non-null   object\n",
      " 12  Roof Matl       2927 non-null   object\n",
      " 13  Exterior 1st    2927 non-null   object\n",
      " 14  Exterior 2nd    2927 non-null   object\n",
      " 15  Exter Qual      2927 non-null   object\n",
      " 16  Exter Cond      2927 non-null   object\n",
      " 17  Foundation      2927 non-null   object\n",
      " 18  Heating         2927 non-null   object\n",
      " 19  Heating QC      2927 non-null   object\n",
      " 20  Central Air     2927 non-null   object\n",
      " 21  Kitchen Qual    2927 non-null   object\n",
      " 22  Functional      2927 non-null   object\n",
      " 23  Paved Drive     2927 non-null   object\n",
      " 24  Sale Type       2927 non-null   object\n",
      " 25  Sale Condition  2927 non-null   object\n",
      "dtypes: object(26)\n",
      "memory usage: 594.7+ KB\n"
     ]
    }
   ],
   "source": [
    "clean_df.select_dtypes(object).info()"
   ]
  },
  {
   "cell_type": "markdown",
   "id": "68f71fbc",
   "metadata": {},
   "source": [
    "We will go trough all the remaning cathegorical features and based on our analysis we wil either normalise, one hot encode or remove the feature."
   ]
  },
  {
   "cell_type": "code",
   "execution_count": 22,
   "id": "fbe9e8d6",
   "metadata": {},
   "outputs": [
    {
     "data": {
      "text/plain": [
       "MS Zoning\n",
       "RL         2270\n",
       "RM          462\n",
       "FV          139\n",
       "RH           27\n",
       "C (all)      25\n",
       "I (all)       2\n",
       "A (agr)       2\n",
       "Name: count, dtype: int64"
      ]
     },
     "execution_count": 22,
     "metadata": {},
     "output_type": "execute_result"
    }
   ],
   "source": [
    "clean_df['MS Zoning'].value_counts()"
   ]
  },
  {
   "cell_type": "code",
   "execution_count": 23,
   "id": "1ad0b6f0",
   "metadata": {},
   "outputs": [
    {
     "data": {
      "text/plain": [
       "MS Zoning\n",
       "FV         218986.949640\n",
       "RL         191302.062115\n",
       "RH         136419.777778\n",
       "RM         126781.393939\n",
       "I (all)     80312.500000\n",
       "C (all)     79795.040000\n",
       "A (agr)     47300.000000\n",
       "Name: SalePrice, dtype: float64"
      ]
     },
     "execution_count": 23,
     "metadata": {},
     "output_type": "execute_result"
    }
   ],
   "source": [
    "#get the average price for each category in 'MS Zoning'\n",
    "clean_df.groupby('MS Zoning')['SalePrice'].mean().sort_values(ascending=False)"
   ]
  },
  {
   "cell_type": "code",
   "execution_count": 24,
   "id": "3cf67a97",
   "metadata": {},
   "outputs": [
    {
     "data": {
      "image/png": "[encoded data removed]",
      "text/plain": [
       "<Figure size 640x480 with 1 Axes>"
      ]
     },
     "metadata": {},
     "output_type": "display_data"
    }
   ],
   "source": [
    "order = ['A (agr)', 'C (all)', 'I (all)', 'RM', 'RH', 'RL', 'FV']\n",
    "sns.boxplot(x='MS Zoning', y='SalePrice', data=clean_df, order=order)\n",
    "plt.xlabel('MS Zoning')\n",
    "plt.ylabel('Sale Price')\n",
    "plt.title('Sale Price vs MS Zoning')\n",
    "plt.show()"
   ]
  },
  {
   "cell_type": "code",
   "execution_count": 25,
   "id": "14e1c920",
   "metadata": {},
   "outputs": [],
   "source": [
    "df_copy = clean_df.copy(deep=True)"
   ]
  },
  {
   "cell_type": "code",
   "execution_count": 28,
   "id": "c8558c83",
   "metadata": {},
   "outputs": [
    {
     "data": {
      "text/plain": [
       "(2927, 86)"
      ]
     },
     "execution_count": 28,
     "metadata": {},
     "output_type": "execute_result"
    }
   ],
   "source": [
    "df_copy.shape"
   ]
  },
  {
   "cell_type": "code",
   "execution_count": 35,
   "id": "6de12d6e",
   "metadata": {},
   "outputs": [
    {
     "name": "stdout",
     "output_type": "stream",
     "text": [
      "MSZoning_encoded\n",
      "5.0    462\n",
      "4.0    139\n",
      "3.0     27\n",
      "1.0     25\n",
      "2.0      2\n",
      "0.0      2\n",
      "Name: count, dtype: int64\n"
     ]
    }
   ],
   "source": [
    "ms_zoning_map = {\n",
    "    'A (agr)': 0,\n",
    "    'C (all)': 1,\n",
    "    'I (all)': 2,\n",
    "    'RH': 3,\n",
    "    'FV': 4,\n",
    "    'RM': 5,\n",
    "}\n",
    "df_copy['MSZoning_encoded'] = df_copy['MS Zoning'].map(ms_zoning_map)\n",
    "print(df_copy['MSZoning_encoded'].value_counts())\n",
    "df_copy = df_copy.drop(['MS Zoning'], axis=1)"
   ]
  },
  {
   "cell_type": "code",
   "execution_count": 37,
   "id": "e9bee3c7",
   "metadata": {},
   "outputs": [
    {
     "name": "stdout",
     "output_type": "stream",
     "text": [
      "Lot Shape\n",
      "Reg    1858\n",
      "IR1     977\n",
      "IR2      76\n",
      "IR3      16\n",
      "Name: count, dtype: int64\n",
      "Lot Shape\n",
      "IR2    229588.355263\n",
      "IR3    221922.812500\n",
      "IR1    210895.359263\n",
      "Reg    162624.897740\n",
      "Name: SalePrice, dtype: float64\n"
     ]
    }
   ],
   "source": [
    "print(df_copy['Lot Shape'].value_counts())\n",
    "print(df_copy.groupby('Lot Shape')['SalePrice'].mean().sort_values(ascending=False))"
   ]
  },
  {
   "cell_type": "markdown",
   "id": "cc8be91a",
   "metadata": {},
   "source": [
    "By the analysis the smallest price mean is for the regular plot shapes, while the other 3 have realtive similar means, so we will drop this feature and replace it with a Has_Iregular_Lot_Shape."
   ]
  },
  {
   "cell_type": "code",
   "execution_count": 38,
   "id": "69f58677",
   "metadata": {},
   "outputs": [
    {
     "name": "stdout",
     "output_type": "stream",
     "text": [
      "Has_Iregular_Lot_Shape\n",
      "0    1858\n",
      "1    1069\n",
      "Name: count, dtype: int64\n"
     ]
    }
   ],
   "source": [
    "df_copy['Has_Iregular_Lot_Shape'] = (df_copy['Lot Shape'] != 'Reg').astype(int)\n",
    "\n",
    "print(df_copy['Has_Iregular_Lot_Shape'].value_counts())"
   ]
  },
  {
   "cell_type": "code",
   "execution_count": 39,
   "id": "e0e82121",
   "metadata": {},
   "outputs": [],
   "source": [
    "df_copy.drop('Lot Shape', axis=1, inplace=True)\n"
   ]
  }
 ],
 "metadata": {
  "kernelspec": {
   "display_name": ".venv",
   "language": "python",
   "name": "python3"
  },
  "language_info": {
   "codemirror_mode": {
    "name": "ipython",
    "version": 3
   },
   "file_extension": ".py",
   "mimetype": "text/x-python",
   "name": "python",
   "nbconvert_exporter": "python",
   "pygments_lexer": "ipython3",
   "version": "3.13.9"
  }
 },
 "nbformat": 4,
 "nbformat_minor": 5
}
