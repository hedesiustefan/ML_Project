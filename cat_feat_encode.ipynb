{
 "cells": [
  {
   "cell_type": "code",
   "execution_count": 19,
   "id": "97cc0d2e",
   "metadata": {},
   "outputs": [],
   "source": [
    "import pandas as pd\n",
    "import numpy as np\n",
    "import seaborn as sns\n",
    "import matplotlib.pyplot as plt\n",
    "from sklearn.preprocessing import StandardScaler\n",
    "from sklearn.decomposition import PCA\n",
    "from sklearn.linear_model import LinearRegression\n",
    "clean_df = pd.read_csv('no_missing_data.csv')"
   ]
  },
  {
   "cell_type": "code",
   "execution_count": 20,
   "id": "31c82c37",
   "metadata": {},
   "outputs": [
    {
     "data": {
      "text/plain": [
       "(2927, 86)"
      ]
     },
     "execution_count": 20,
     "metadata": {},
     "output_type": "execute_result"
    }
   ],
   "source": [
    "clean_df.shape"
   ]
  },
  {
   "cell_type": "code",
   "execution_count": 21,
   "id": "988a075c",
   "metadata": {},
   "outputs": [
    {
     "name": "stdout",
     "output_type": "stream",
     "text": [
      "<class 'pandas.core.frame.DataFrame'>\n",
      "RangeIndex: 2927 entries, 0 to 2926\n",
      "Data columns (total 26 columns):\n",
      " #   Column          Non-Null Count  Dtype \n",
      "---  ------          --------------  ----- \n",
      " 0   MS Zoning       2927 non-null   object\n",
      " 1   Lot Shape       2927 non-null   object\n",
      " 2   Land Contour    2927 non-null   object\n",
      " 3   Utilities       2927 non-null   object\n",
      " 4   Lot Config      2927 non-null   object\n",
      " 5   Land Slope      2927 non-null   object\n",
      " 6   Neighborhood    2927 non-null   object\n",
      " 7   Condition 1     2927 non-null   object\n",
      " 8   Condition 2     2927 non-null   object\n",
      " 9   Bldg Type       2927 non-null   object\n",
      " 10  House Style     2927 non-null   object\n",
      " 11  Roof Style      2927 non-null   object\n",
      " 12  Roof Matl       2927 non-null   object\n",
      " 13  Exterior 1st    2927 non-null   object\n",
      " 14  Exterior 2nd    2927 non-null   object\n",
      " 15  Exter Qual      2927 non-null   object\n",
      " 16  Exter Cond      2927 non-null   object\n",
      " 17  Foundation      2927 non-null   object\n",
      " 18  Heating         2927 non-null   object\n",
      " 19  Heating QC      2927 non-null   object\n",
      " 20  Central Air     2927 non-null   object\n",
      " 21  Kitchen Qual    2927 non-null   object\n",
      " 22  Functional      2927 non-null   object\n",
      " 23  Paved Drive     2927 non-null   object\n",
      " 24  Sale Type       2927 non-null   object\n",
      " 25  Sale Condition  2927 non-null   object\n",
      "dtypes: object(26)\n",
      "memory usage: 594.7+ KB\n"
     ]
    }
   ],
   "source": [
    "clean_df.select_dtypes(object).info()"
   ]
  },
  {
   "cell_type": "markdown",
   "id": "68f71fbc",
   "metadata": {},
   "source": [
    "We will go trough all the remaning cathegorical features and based on our analysis we wil either normalise, one hot encode or remove the feature."
   ]
  },
  {
   "cell_type": "code",
   "execution_count": 22,
   "id": "fbe9e8d6",
   "metadata": {},
   "outputs": [
    {
     "data": {
      "text/plain": [
       "MS Zoning\n",
       "RL         2270\n",
       "RM          462\n",
       "FV          139\n",
       "RH           27\n",
       "C (all)      25\n",
       "I (all)       2\n",
       "A (agr)       2\n",
       "Name: count, dtype: int64"
      ]
     },
     "execution_count": 22,
     "metadata": {},
     "output_type": "execute_result"
    }
   ],
   "source": [
    "clean_df['MS Zoning'].value_counts()"
   ]
  },
  {
   "cell_type": "code",
   "execution_count": 23,
   "id": "1ad0b6f0",
   "metadata": {},
   "outputs": [
    {
     "data": {
      "text/plain": [
       "MS Zoning\n",
       "FV         218986.949640\n",
       "RL         191302.062115\n",
       "RH         136419.777778\n",
       "RM         126781.393939\n",
       "I (all)     80312.500000\n",
       "C (all)     79795.040000\n",
       "A (agr)     47300.000000\n",
       "Name: SalePrice, dtype: float64"
      ]
     },
     "execution_count": 23,
     "metadata": {},
     "output_type": "execute_result"
    }
   ],
   "source": [
    "#get the average price for each category in 'MS Zoning'\n",
    "clean_df.groupby('MS Zoning')['SalePrice'].mean().sort_values(ascending=False)"
   ]
  },
  {
   "cell_type": "code",
   "execution_count": 24,
   "id": "3cf67a97",
   "metadata": {},
   "outputs": [
    {
     "data": {
      "image/png": "[encoded data removed]",
      "text/plain": [
       "<Figure size 640x480 with 1 Axes>"
      ]
     },
     "metadata": {},
     "output_type": "display_data"
    }
   ],
   "source": [
    "order = ['A (agr)', 'C (all)', 'I (all)', 'RM', 'RH', 'RL', 'FV']\n",
    "sns.boxplot(x='MS Zoning', y='SalePrice', data=clean_df, order=order)\n",
    "plt.xlabel('MS Zoning')\n",
    "plt.ylabel('Sale Price')\n",
    "plt.title('Sale Price vs MS Zoning')\n",
    "plt.show()"
   ]
  },
  {
   "cell_type": "code",
   "execution_count": 25,
   "id": "14e1c920",
   "metadata": {},
   "outputs": [],
   "source": [
    "df_copy = clean_df.copy(deep=True)"
   ]
  },
  {
   "cell_type": "code",
   "execution_count": 28,
   "id": "c8558c83",
   "metadata": {},
   "outputs": [
    {
     "data": {
      "text/plain": [
       "(2927, 86)"
      ]
     },
     "execution_count": 28,
     "metadata": {},
     "output_type": "execute_result"
    }
   ],
   "source": [
    "df_copy.shape"
   ]
  },
  {
   "cell_type": "code",
   "execution_count": 35,
   "id": "6de12d6e",
   "metadata": {},
   "outputs": [
    {
     "name": "stdout",
     "output_type": "stream",
     "text": [
      "MSZoning_encoded\n",
      "5.0    462\n",
      "4.0    139\n",
      "3.0     27\n",
      "1.0     25\n",
      "2.0      2\n",
      "0.0      2\n",
      "Name: count, dtype: int64\n"
     ]
    }
   ],
   "source": [
    "ms_zoning_map = {\n",
    "    'A (agr)': 0,\n",
    "    'C (all)': 1,\n",
    "    'I (all)': 2,\n",
    "    'RH': 3,\n",
    "    'FV': 4,\n",
    "    'RM': 5,\n",
    "}\n",
    "df_copy['MSZoning_encoded'] = df_copy['MS Zoning'].map(ms_zoning_map)\n",
    "print(df_copy['MSZoning_encoded'].value_counts())\n",
    "df_copy = df_copy.drop(['MS Zoning'], axis=1)"
   ]
  },
  {
   "cell_type": "code",
   "execution_count": 37,
   "id": "e9bee3c7",
   "metadata": {},
   "outputs": [
    {
     "name": "stdout",
     "output_type": "stream",
     "text": [
      "Lot Shape\n",
      "Reg    1858\n",
      "IR1     977\n",
      "IR2      76\n",
      "IR3      16\n",
      "Name: count, dtype: int64\n",
      "Lot Shape\n",
      "IR2    229588.355263\n",
      "IR3    221922.812500\n",
      "IR1    210895.359263\n",
      "Reg    162624.897740\n",
      "Name: SalePrice, dtype: float64\n"
     ]
    }
   ],
   "source": [
    "print(df_copy['Lot Shape'].value_counts())\n",
    "print(df_copy.groupby('Lot Shape')['SalePrice'].mean().sort_values(ascending=False))"
   ]
  },
  {
   "cell_type": "markdown",
   "id": "cc8be91a",
   "metadata": {},
   "source": [
    "By the analysis the smallest price mean is for the regular plot shapes, while the other 3 have realtive similar means, so we will drop this feature and replace it with a Has_Iregular_Lot_Shape."
   ]
  },
  {
   "cell_type": "code",
   "execution_count": 38,
   "id": "69f58677",
   "metadata": {},
   "outputs": [
    {
     "name": "stdout",
     "output_type": "stream",
     "text": [
      "Has_Iregular_Lot_Shape\n",
      "0    1858\n",
      "1    1069\n",
      "Name: count, dtype: int64\n"
     ]
    }
   ],
   "source": [
    "df_copy['Has_Iregular_Lot_Shape'] = (df_copy['Lot Shape'] != 'Reg').astype(int)\n",
    "\n",
    "print(df_copy['Has_Iregular_Lot_Shape'].value_counts())"
   ]
  },
  {
   "cell_type": "code",
   "execution_count": 39,
   "id": "e0e82121",
   "metadata": {},
   "outputs": [],
   "source": [
    "df_copy.drop('Lot Shape', axis=1, inplace=True)\n"
   ]
  },
  {
   "cell_type": "code",
   "execution_count": 41,
   "id": "b28ce401",
   "metadata": {},
   "outputs": [
    {
     "name": "stdout",
     "output_type": "stream",
     "text": [
      "Land Contour\n",
      "Lvl    2632\n",
      "HLS     119\n",
      "Bnk     116\n",
      "Low      60\n",
      "Name: count, dtype: int64\n",
      "Land Contour\n",
      "HLS    253812.126050\n",
      "Low    194882.733333\n",
      "Lvl    178781.254559\n",
      "Bnk    144417.560345\n",
      "Name: SalePrice, dtype: float64\n"
     ]
    }
   ],
   "source": [
    "print(df_copy['Land Contour'].value_counts())\n",
    "print(df_copy.groupby('Land Contour')['SalePrice'].mean().sort_values(ascending=False))"
   ]
  },
  {
   "cell_type": "code",
   "execution_count": 42,
   "id": "472cad24",
   "metadata": {},
   "outputs": [
    {
     "data": {
      "image/png": "[encoded data removed]",
      "text/plain": [
       "<Figure size 800x500 with 1 Axes>"
      ]
     },
     "metadata": {},
     "output_type": "display_data"
    }
   ],
   "source": [
    "order = ['Bnk', 'Lvl', 'Low', 'HLS']\n",
    "\n",
    "plt.figure(figsize=(8, 5))\n",
    "sns.boxplot(x='Land Contour', y='SalePrice', data=clean_df, order=order)\n",
    "\n",
    "plt.xlabel('Land Contour')\n",
    "plt.ylabel('Sale Price')\n",
    "plt.title('Sale Price vs Land Contour')\n",
    "plt.show()"
   ]
  },
  {
   "cell_type": "markdown",
   "id": "12ec82e6",
   "metadata": {},
   "source": [
    "Land Contour\tMean SalePrice\tInterpretation\n",
    "Bnk\t            144 k\t        Poor (banked lot — lower elevation, less desirable)\n",
    "Lvl\t            179 k\t        Average (level lot)\n",
    "Low\t            195 k\t        Slightly better\n",
    "HLS\t            254 k\t        Highest (hillside lot — often more premium view)"
   ]
  },
  {
   "cell_type": "code",
   "execution_count": 43,
   "id": "29f74214",
   "metadata": {},
   "outputs": [
    {
     "name": "stdout",
     "output_type": "stream",
     "text": [
      "Land_Contour\n",
      "2    2632\n",
      "4     119\n",
      "1     116\n",
      "3      60\n",
      "Name: count, dtype: int64\n"
     ]
    }
   ],
   "source": [
    "land_contour_mapping = {\n",
    "    'Bnk': 1,\n",
    "    'Lvl': 2,\n",
    "    'Low': 3,\n",
    "    'HLS': 4\n",
    "}\n",
    "\n",
    "df_copy['Land_Contour'] = df_copy['Land Contour'].map(land_contour_mapping)\n",
    "\n",
    "df_copy.drop('Land Contour', axis=1, inplace=True)\n",
    "\n",
    "print(df_copy['Land_Contour'].value_counts(dropna=False))"
   ]
  },
  {
   "cell_type": "code",
   "execution_count": 44,
   "id": "b9671b9b",
   "metadata": {},
   "outputs": [
    {
     "name": "stdout",
     "output_type": "stream",
     "text": [
      "Utilities\n",
      "AllPub    2924\n",
      "NoSewr       2\n",
      "NoSeWa       1\n",
      "Name: count, dtype: int64\n",
      "Utilities\n",
      "AllPub    180879.336867\n",
      "NoSeWa    137500.000000\n",
      "NoSewr     86312.500000\n",
      "Name: SalePrice, dtype: float64\n"
     ]
    }
   ],
   "source": [
    "print(df_copy['Utilities'].value_counts())\n",
    "print(df_copy.groupby('Utilities')['SalePrice'].mean().sort_values(ascending=False))"
   ]
  },
  {
   "cell_type": "markdown",
   "id": "cc536ec6",
   "metadata": {},
   "source": [
    "Only 3 rows have a different value to AllPub so by keeping this feature we are kepping noise in our data, so we will drop it."
   ]
  },
  {
   "cell_type": "code",
   "execution_count": 45,
   "id": "c314151a",
   "metadata": {},
   "outputs": [],
   "source": [
    "df_copy.drop('Utilities', axis=1, inplace=True)"
   ]
  },
  {
   "cell_type": "code",
   "execution_count": 47,
   "id": "ff2f6984",
   "metadata": {},
   "outputs": [
    {
     "name": "stdout",
     "output_type": "stream",
     "text": [
      "Lot Config\n",
      "Inside     2137\n",
      "Corner      511\n",
      "CulDSac     180\n",
      "FR2          85\n",
      "FR3          14\n",
      "Name: count, dtype: int64\n",
      "Lot Config\n",
      "CulDSac    225531.872222\n",
      "FR3        196635.857143\n",
      "Corner     179956.937378\n",
      "Inside     177395.519888\n",
      "FR2        174122.894118\n",
      "Name: SalePrice, dtype: float64\n"
     ]
    }
   ],
   "source": [
    "print(df_copy['Lot Config'].value_counts())\n",
    "print(df_copy.groupby('Lot Config')['SalePrice'].mean().sort_values(ascending=False))"
   ]
  },
  {
   "cell_type": "code",
   "execution_count": 48,
   "id": "dade2803",
   "metadata": {},
   "outputs": [
    {
     "data": {
      "image/png": "[encoded data removed]",
      "text/plain": [
       "<Figure size 800x500 with 1 Axes>"
      ]
     },
     "metadata": {},
     "output_type": "display_data"
    }
   ],
   "source": [
    "order = ['FR2', 'Inside', 'Corner',  'FR3', 'CulDSac']\n",
    "\n",
    "plt.figure(figsize=(8, 5))\n",
    "sns.boxplot(x='Lot Config', y='SalePrice', data=clean_df, order=order)\n",
    "plt.xlabel('Lot Config')\n",
    "plt.ylabel('Sale Price')\n",
    "plt.title('Sale Price vs Lot Config')\n",
    "plt.show()"
   ]
  },
  {
   "cell_type": "markdown",
   "id": "5b9436d8",
   "metadata": {},
   "source": [
    "The Lot Config feature describes the lot’s layout relative to surrounding properties. Since it contains multiple unordered categories (Inside, Corner, CulDSac, FR2, FR3) and is strongly imbalanced—most properties are Inside—ordinal encoding would incorrectly imply a ranking between categories. To avoid introducing artificial order and bias, one-hot encoding was used instead. This approach preserves all category information without imposing hierarchy, allowing the model to learn category-specific effects directly."
   ]
  },
  {
   "cell_type": "code",
   "execution_count": 49,
   "id": "0cf31d93",
   "metadata": {},
   "outputs": [],
   "source": [
    "lot_config_dummies = pd.get_dummies(df_copy['Lot Config'], prefix='LotConfig')\n",
    "\n",
    "df_copy = pd.concat([df_copy, lot_config_dummies], axis=1)\n",
    "df_copy.drop('Lot Config', axis=1, inplace=True)"
   ]
  },
  {
   "cell_type": "code",
   "execution_count": 50,
   "id": "1ee450c4",
   "metadata": {},
   "outputs": [
    {
     "name": "stdout",
     "output_type": "stream",
     "text": [
      "\n",
      "LotConfig_Corner value counts:\n",
      "LotConfig_Corner\n",
      "False    2416\n",
      "True      511\n",
      "Name: count, dtype: int64\n",
      "\n",
      "LotConfig_CulDSac value counts:\n",
      "LotConfig_CulDSac\n",
      "False    2747\n",
      "True      180\n",
      "Name: count, dtype: int64\n",
      "\n",
      "LotConfig_FR2 value counts:\n",
      "LotConfig_FR2\n",
      "False    2842\n",
      "True       85\n",
      "Name: count, dtype: int64\n",
      "\n",
      "LotConfig_FR3 value counts:\n",
      "LotConfig_FR3\n",
      "False    2913\n",
      "True       14\n",
      "Name: count, dtype: int64\n",
      "\n",
      "LotConfig_Inside value counts:\n",
      "LotConfig_Inside\n",
      "True     2137\n",
      "False     790\n",
      "Name: count, dtype: int64\n"
     ]
    }
   ],
   "source": [
    "for col in [c for c in df_copy.columns if 'LotConfig' in c]:\n",
    "    print(f\"\\n{col} value counts:\")\n",
    "    print(df_copy[col].value_counts())"
   ]
  },
  {
   "cell_type": "code",
   "execution_count": 51,
   "id": "298b5e8f",
   "metadata": {},
   "outputs": [
    {
     "name": "stdout",
     "output_type": "stream",
     "text": [
      "Land Slope\n",
      "Gtl    2786\n",
      "Mod     125\n",
      "Sev      16\n",
      "Name: count, dtype: int64\n",
      "Land Slope\n",
      "Sev    207370.625000\n",
      "Mod    204853.784000\n",
      "Gtl    179568.073582\n",
      "Name: SalePrice, dtype: float64\n"
     ]
    }
   ],
   "source": [
    "print(df_copy['Land Slope'].value_counts())\n",
    "print(df_copy.groupby('Land Slope')['SalePrice'].mean().sort_values(ascending=False))"
   ]
  },
  {
   "cell_type": "markdown",
   "id": "fccd5674",
   "metadata": {},
   "source": [
    "The Land Slope feature was one-hot encoded because its categories (Gtl, Mod, Sev) are not truly ordinal and the data is imbalanced. This avoids imposing a false numeric order and lets the model learn each slope type’s effect independently."
   ]
  },
  {
   "cell_type": "code",
   "execution_count": null,
   "id": "7935a69e",
   "metadata": {},
   "outputs": [],
   "source": [
    "land_slope_dummies = pd.get_dummies(df_copy['Land Slope'], prefix='LandSlope')\n",
    "df_copy = pd.concat([df_copy, land_slope_dummies], axis=1)\n",
    "df_copy.drop('Land Slope', axis=1, inplace=True)"
   ]
  },
  {
   "cell_type": "code",
   "execution_count": null,
   "id": "05d66da0",
   "metadata": {},
   "outputs": [
    {
     "name": "stdout",
     "output_type": "stream",
     "text": [
      "\n",
      "land_slope_Gtl value counts:\n",
      "land_slope_Gtl\n",
      "True     2786\n",
      "False     141\n",
      "Name: count, dtype: int64\n",
      "\n",
      "land_slope_Mod value counts:\n",
      "land_slope_Mod\n",
      "False    2802\n",
      "True      125\n",
      "Name: count, dtype: int64\n",
      "\n",
      "land_slope_Sev value counts:\n",
      "land_slope_Sev\n",
      "False    2911\n",
      "True       16\n",
      "Name: count, dtype: int64\n"
     ]
    }
   ],
   "source": [
    "for col in [c for c in df_copy.columns if 'LandSlope' in c]:\n",
    "    print(f\"\\n{col} value counts:\")\n",
    "    print(df_copy[col].value_counts())"
   ]
  },
  {
   "cell_type": "code",
   "execution_count": 56,
   "id": "84b78248",
   "metadata": {},
   "outputs": [
    {
     "name": "stdout",
     "output_type": "stream",
     "text": [
      "Neighborhood\n",
      "NAmes      443\n",
      "CollgCr    267\n",
      "OldTown    239\n",
      "Edwards    193\n",
      "Somerst    182\n",
      "NridgHt    166\n",
      "Gilbert    165\n",
      "Sawyer     151\n",
      "NWAmes     131\n",
      "SawyerW    125\n",
      "Mitchel    113\n",
      "BrkSide    108\n",
      "Crawfor    103\n",
      "IDOTRR      93\n",
      "NoRidge     71\n",
      "Timber      71\n",
      "StoneBr     51\n",
      "SWISU       48\n",
      "ClearCr     44\n",
      "MeadowV     37\n",
      "BrDale      30\n",
      "Blmngtn     28\n",
      "Veenker     24\n",
      "NPkVill     23\n",
      "Blueste     10\n",
      "Greens       8\n",
      "GrnHill      2\n",
      "Landmrk      1\n",
      "Name: count, dtype: int64\n",
      "Neighborhood\n",
      "NoRidge    330319.126761\n",
      "StoneBr    324229.196078\n",
      "NridgHt    322018.265060\n",
      "GrnHill    280000.000000\n",
      "Veenker    248314.583333\n",
      "Timber     246307.985915\n",
      "Somerst    229707.324176\n",
      "ClearCr    208662.090909\n",
      "Crawfor    207550.834951\n",
      "CollgCr    201803.434457\n",
      "Blmngtn    196661.678571\n",
      "Greens     193531.250000\n",
      "Gilbert    190646.575758\n",
      "NWAmes     188406.908397\n",
      "SawyerW    184070.184000\n",
      "Mitchel    162954.300885\n",
      "NAmes      145097.349887\n",
      "Blueste    143590.000000\n",
      "NPkVill    140710.869565\n",
      "Landmrk    137000.000000\n",
      "Sawyer     136751.152318\n",
      "SWISU      135071.937500\n",
      "Edwards    130568.735751\n",
      "BrkSide    124756.250000\n",
      "OldTown    123991.891213\n",
      "BrDale     105608.333333\n",
      "IDOTRR     103752.903226\n",
      "MeadowV     95756.486486\n",
      "Name: SalePrice, dtype: float64\n"
     ]
    }
   ],
   "source": [
    "print(df_copy['Neighborhood'].value_counts())\n",
    "print(df_copy.groupby('Neighborhood')['SalePrice'].mean().sort_values(ascending=False))"
   ]
  }
 ],
 "metadata": {
  "kernelspec": {
   "display_name": ".venv",
   "language": "python",
   "name": "python3"
  },
  "language_info": {
   "codemirror_mode": {
    "name": "ipython",
    "version": 3
   },
   "file_extension": ".py",
   "mimetype": "text/x-python",
   "name": "python",
   "nbconvert_exporter": "python",
   "pygments_lexer": "ipython3",
   "version": "3.13.9"
  }
 },
 "nbformat": 4,
 "nbformat_minor": 5
}
