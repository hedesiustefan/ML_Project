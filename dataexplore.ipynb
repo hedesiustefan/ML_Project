{
 "cells": [
  {
   "cell_type": "code",
   "execution_count": 3,
   "id": "c3d00fa7",
   "metadata": {},
   "outputs": [],
   "source": [
    "import pandas as pd\n",
    "import numpy as np\n",
    "import seaborn as sns\n",
    "import matplotlib.pyplot as plt\n",
    "from sklearn.preprocessing import StandardScaler\n",
    "from sklearn.decomposition import PCA"
   ]
  },
  {
   "cell_type": "code",
   "execution_count": 4,
   "id": "ef60e97e",
   "metadata": {},
   "outputs": [
    {
     "name": "stdout",
     "output_type": "stream",
     "text": [
      "   Order        PID  MS SubClass MS Zoning  Lot Frontage  Lot Area Street  \\\n",
      "0      1  526301100           20        RL         141.0     31770   Pave   \n",
      "1      2  526350040           20        RH          80.0     11622   Pave   \n",
      "2      3  526351010           20        RL          81.0     14267   Pave   \n",
      "3      4  526353030           20        RL          93.0     11160   Pave   \n",
      "4      5  527105010           60        RL          74.0     13830   Pave   \n",
      "\n",
      "  Alley Lot Shape Land Contour  ... Pool Area Pool QC  Fence Misc Feature  \\\n",
      "0   NaN       IR1          Lvl  ...         0     NaN    NaN          NaN   \n",
      "1   NaN       Reg          Lvl  ...         0     NaN  MnPrv          NaN   \n",
      "2   NaN       IR1          Lvl  ...         0     NaN    NaN         Gar2   \n",
      "3   NaN       Reg          Lvl  ...         0     NaN    NaN          NaN   \n",
      "4   NaN       IR1          Lvl  ...         0     NaN  MnPrv          NaN   \n",
      "\n",
      "  Misc Val Mo Sold Yr Sold Sale Type  Sale Condition  SalePrice  \n",
      "0        0       5    2010       WD           Normal     215000  \n",
      "1        0       6    2010       WD           Normal     105000  \n",
      "2    12500       6    2010       WD           Normal     172000  \n",
      "3        0       4    2010       WD           Normal     244000  \n",
      "4        0       3    2010       WD           Normal     189900  \n",
      "\n",
      "[5 rows x 82 columns]\n"
     ]
    }
   ],
   "source": [
    "clean_df = pd.read_csv('AmesHousing.csv', sep='\\t')\n",
    "print(clean_df.head())"
   ]
  },
  {
   "cell_type": "code",
   "execution_count": 5,
   "id": "18360afd",
   "metadata": {},
   "outputs": [
    {
     "name": "stdout",
     "output_type": "stream",
     "text": [
      "(2930, 82)\n"
     ]
    }
   ],
   "source": [
    "print(clean_df.shape)"
   ]
  },
  {
   "cell_type": "code",
   "execution_count": 6,
   "id": "5ea205a1",
   "metadata": {},
   "outputs": [
    {
     "name": "stdout",
     "output_type": "stream",
     "text": [
      "<class 'pandas.core.frame.DataFrame'>\n",
      "RangeIndex: 2930 entries, 0 to 2929\n",
      "Data columns (total 82 columns):\n",
      " #   Column           Non-Null Count  Dtype  \n",
      "---  ------           --------------  -----  \n",
      " 0   Order            2930 non-null   int64  \n",
      " 1   PID              2930 non-null   int64  \n",
      " 2   MS SubClass      2930 non-null   int64  \n",
      " 3   MS Zoning        2930 non-null   object \n",
      " 4   Lot Frontage     2440 non-null   float64\n",
      " 5   Lot Area         2930 non-null   int64  \n",
      " 6   Street           2930 non-null   object \n",
      " 7   Alley            198 non-null    object \n",
      " 8   Lot Shape        2930 non-null   object \n",
      " 9   Land Contour     2930 non-null   object \n",
      " 10  Utilities        2930 non-null   object \n",
      " 11  Lot Config       2930 non-null   object \n",
      " 12  Land Slope       2930 non-null   object \n",
      " 13  Neighborhood     2930 non-null   object \n",
      " 14  Condition 1      2930 non-null   object \n",
      " 15  Condition 2      2930 non-null   object \n",
      " 16  Bldg Type        2930 non-null   object \n",
      " 17  House Style      2930 non-null   object \n",
      " 18  Overall Qual     2930 non-null   int64  \n",
      " 19  Overall Cond     2930 non-null   int64  \n",
      " 20  Year Built       2930 non-null   int64  \n",
      " 21  Year Remod/Add   2930 non-null   int64  \n",
      " 22  Roof Style       2930 non-null   object \n",
      " 23  Roof Matl        2930 non-null   object \n",
      " 24  Exterior 1st     2930 non-null   object \n",
      " 25  Exterior 2nd     2930 non-null   object \n",
      " 26  Mas Vnr Type     1155 non-null   object \n",
      " 27  Mas Vnr Area     2907 non-null   float64\n",
      " 28  Exter Qual       2930 non-null   object \n",
      " 29  Exter Cond       2930 non-null   object \n",
      " 30  Foundation       2930 non-null   object \n",
      " 31  Bsmt Qual        2850 non-null   object \n",
      " 32  Bsmt Cond        2850 non-null   object \n",
      " 33  Bsmt Exposure    2847 non-null   object \n",
      " 34  BsmtFin Type 1   2850 non-null   object \n",
      " 35  BsmtFin SF 1     2929 non-null   float64\n",
      " 36  BsmtFin Type 2   2849 non-null   object \n",
      " 37  BsmtFin SF 2     2929 non-null   float64\n",
      " 38  Bsmt Unf SF      2929 non-null   float64\n",
      " 39  Total Bsmt SF    2929 non-null   float64\n",
      " 40  Heating          2930 non-null   object \n",
      " 41  Heating QC       2930 non-null   object \n",
      " 42  Central Air      2930 non-null   object \n",
      " 43  Electrical       2929 non-null   object \n",
      " 44  1st Flr SF       2930 non-null   int64  \n",
      " 45  2nd Flr SF       2930 non-null   int64  \n",
      " 46  Low Qual Fin SF  2930 non-null   int64  \n",
      " 47  Gr Liv Area      2930 non-null   int64  \n",
      " 48  Bsmt Full Bath   2928 non-null   float64\n",
      " 49  Bsmt Half Bath   2928 non-null   float64\n",
      " 50  Full Bath        2930 non-null   int64  \n",
      " 51  Half Bath        2930 non-null   int64  \n",
      " 52  Bedroom AbvGr    2930 non-null   int64  \n",
      " 53  Kitchen AbvGr    2930 non-null   int64  \n",
      " 54  Kitchen Qual     2930 non-null   object \n",
      " 55  TotRms AbvGrd    2930 non-null   int64  \n",
      " 56  Functional       2930 non-null   object \n",
      " 57  Fireplaces       2930 non-null   int64  \n",
      " 58  Fireplace Qu     1508 non-null   object \n",
      " 59  Garage Type      2773 non-null   object \n",
      " 60  Garage Yr Blt    2771 non-null   float64\n",
      " 61  Garage Finish    2771 non-null   object \n",
      " 62  Garage Cars      2929 non-null   float64\n",
      " 63  Garage Area      2929 non-null   float64\n",
      " 64  Garage Qual      2771 non-null   object \n",
      " 65  Garage Cond      2771 non-null   object \n",
      " 66  Paved Drive      2930 non-null   object \n",
      " 67  Wood Deck SF     2930 non-null   int64  \n",
      " 68  Open Porch SF    2930 non-null   int64  \n",
      " 69  Enclosed Porch   2930 non-null   int64  \n",
      " 70  3Ssn Porch       2930 non-null   int64  \n",
      " 71  Screen Porch     2930 non-null   int64  \n",
      " 72  Pool Area        2930 non-null   int64  \n",
      " 73  Pool QC          13 non-null     object \n",
      " 74  Fence            572 non-null    object \n",
      " 75  Misc Feature     106 non-null    object \n",
      " 76  Misc Val         2930 non-null   int64  \n",
      " 77  Mo Sold          2930 non-null   int64  \n",
      " 78  Yr Sold          2930 non-null   int64  \n",
      " 79  Sale Type        2930 non-null   object \n",
      " 80  Sale Condition   2930 non-null   object \n",
      " 81  SalePrice        2930 non-null   int64  \n",
      "dtypes: float64(11), int64(28), object(43)\n",
      "memory usage: 1.8+ MB\n",
      "None\n"
     ]
    }
   ],
   "source": [
    "print(clean_df.info())"
   ]
  },
  {
   "cell_type": "code",
   "execution_count": 7,
   "id": "3a7bafdb",
   "metadata": {},
   "outputs": [
    {
     "data": {
      "text/plain": [
       "np.int64(0)"
      ]
     },
     "execution_count": 7,
     "metadata": {},
     "output_type": "execute_result"
    }
   ],
   "source": [
    "# duplicates check\n",
    "clean_df.duplicated().sum()"
   ]
  },
  {
   "cell_type": "code",
   "execution_count": 8,
   "id": "e0f4fc8c",
   "metadata": {},
   "outputs": [
    {
     "data": {
      "text/plain": [
       "object     43\n",
       "int64      28\n",
       "float64    11\n",
       "Name: count, dtype: int64"
      ]
     },
     "execution_count": 8,
     "metadata": {},
     "output_type": "execute_result"
    }
   ],
   "source": [
    "# check number of numerical vs cathegorical features\n",
    "clean_df.dtypes.value_counts()\n",
    "# => all treated as cathegorical, even though some should'nt"
   ]
  },
  {
   "cell_type": "markdown",
   "id": "7bfb5f0f",
   "metadata": {},
   "source": [
    "43 out of the 82 fetures are cathegorical, so for the next steps we will work on converting them to numerical"
   ]
  },
  {
   "cell_type": "code",
   "execution_count": 9,
   "id": "faec0e3e",
   "metadata": {},
   "outputs": [
    {
     "name": "stdout",
     "output_type": "stream",
     "text": [
      "Pool QC           2917\n",
      "Misc Feature      2824\n",
      "Alley             2732\n",
      "Fence             2358\n",
      "Mas Vnr Type      1775\n",
      "Fireplace Qu      1422\n",
      "Lot Frontage       490\n",
      "Garage Qual        159\n",
      "Garage Yr Blt      159\n",
      "Garage Cond        159\n",
      "Garage Finish      159\n",
      "Garage Type        157\n",
      "Bsmt Exposure       83\n",
      "BsmtFin Type 2      81\n",
      "Bsmt Qual           80\n",
      "Bsmt Cond           80\n",
      "BsmtFin Type 1      80\n",
      "Mas Vnr Area        23\n",
      "Bsmt Full Bath       2\n",
      "Bsmt Half Bath       2\n",
      "Total Bsmt SF        1\n",
      "BsmtFin SF 1         1\n",
      "BsmtFin SF 2         1\n",
      "Garage Area          1\n",
      "Garage Cars          1\n",
      "Bsmt Unf SF          1\n",
      "Electrical           1\n",
      "Lot Shape            0\n",
      "Street               0\n",
      "Lot Area             0\n",
      "dtype: int64\n"
     ]
    }
   ],
   "source": [
    "# check number of missing values per feature\n",
    "missing = clean_df.isnull().sum().sort_values(ascending=False).head(30)\n",
    "print(missing)\n"
   ]
  },
  {
   "cell_type": "code",
   "execution_count": 10,
   "id": "c8bc3a99",
   "metadata": {},
   "outputs": [
    {
     "data": {
      "image/png": "[encoded data removed]",
      "text/plain": [
       "<Figure size 1000x600 with 1 Axes>"
      ]
     },
     "metadata": {},
     "output_type": "display_data"
    }
   ],
   "source": [
    "plt.figure(figsize=(10, 6))\n",
    "plt.scatter(missing.index, missing.values, color='blue', alpha=0.7)\n",
    "\n",
    "# Add labels and title\n",
    "plt.xticks(rotation=90)\n",
    "plt.xlabel(\"Feature (Ox)\")\n",
    "plt.ylabel(\"Number of Missing Values (Oy)\")\n",
    "plt.title(\"Top 30 Features by Missing Values\")\n",
    "\n",
    "# Make layout tidy and show plot\n",
    "plt.tight_layout()\n",
    "plt.show()"
   ]
  },
  {
   "cell_type": "markdown",
   "id": "16725941",
   "metadata": {},
   "source": [
    "The plot shows the features that have a high amount of missing values."
   ]
  },
  {
   "cell_type": "code",
   "execution_count": 11,
   "id": "15a2d13f",
   "metadata": {},
   "outputs": [
    {
     "name": "stdout",
     "output_type": "stream",
     "text": [
      "2498    800\n",
      "2735    738\n",
      "2357    648\n",
      "1566    576\n",
      "2278    561\n",
      "1760    555\n",
      "2350    519\n",
      "2570    512\n",
      "1498    480\n",
      "2089    444\n",
      "1940    368\n",
      "2230    228\n",
      "1063    144\n",
      "Name: Pool Area, dtype: int64\n",
      "2917\n",
      "Percentage of houses without a pool: 99.56%\n"
     ]
    }
   ],
   "source": [
    "pool_sizes = clean_df['Pool Area'].sort_values(ascending=False).head(13)\n",
    "print(pool_sizes)\n",
    "\n",
    "no_pool = (clean_df['Pool Area'] == 0).sum()\n",
    "print(no_pool)\n",
    "print(\"Percentage of houses without a pool: {:.2f}%\".format((no_pool / len(clean_df)) * 100))"
   ]
  },
  {
   "cell_type": "markdown",
   "id": "82f66e4b",
   "metadata": {},
   "source": [
    "Based on the quant analysis we decided to drop the 2 columns regarding the pool, instead replaced them with hasPool: 0 if has not, 1 if has"
   ]
  },
  {
   "cell_type": "code",
   "execution_count": 12,
   "id": "7718e211",
   "metadata": {},
   "outputs": [
    {
     "name": "stdout",
     "output_type": "stream",
     "text": [
      "hasPool\n",
      "0    2917\n",
      "1      13\n",
      "Name: count, dtype: int64\n"
     ]
    }
   ],
   "source": [
    "df_noPool = clean_df.copy(deep=True)\n",
    "df_noPool['hasPool'] = (clean_df['Pool Area'] > 0).astype(int)\n",
    "df_noPool.drop(['Pool Area', 'Pool QC'], axis=1, inplace=True)\n",
    "print(df_noPool['hasPool'].value_counts())"
   ]
  },
  {
   "cell_type": "code",
   "execution_count": 13,
   "id": "5cc04852",
   "metadata": {},
   "outputs": [
    {
     "name": "stdout",
     "output_type": "stream",
     "text": [
      "1422\n",
      "Percentage of houses without a fireplace: 48.53%\n"
     ]
    }
   ],
   "source": [
    "no_fireplace = (clean_df['Fireplaces'] == 0).sum()\n",
    "print(no_fireplace)\n",
    "print(\"Percentage of houses without a fireplace: {:.2f}%\".format((no_fireplace / len(clean_df)) * 100))\n"
   ]
  },
  {
   "cell_type": "code",
   "execution_count": 14,
   "id": "30270f44",
   "metadata": {},
   "outputs": [
    {
     "data": {
      "image/png": "[encoded data removed]",
      "text/plain": [
       "<Figure size 640x480 with 1 Axes>"
      ]
     },
     "metadata": {},
     "output_type": "display_data"
    }
   ],
   "source": [
    "plt.scatter(clean_df['Fireplaces'], clean_df['SalePrice'])\n",
    "plt.xlabel('Number of Fireplaces')\n",
    "plt.ylabel('Sale Price')\n",
    "plt.title('Relationship between Fireplaces and Sale Price')\n",
    "plt.show()"
   ]
  },
  {
   "cell_type": "code",
   "execution_count": 15,
   "id": "a22ca735",
   "metadata": {},
   "outputs": [
    {
     "data": {
      "image/png": "[encoded data removed]",
      "text/plain": [
       "<Figure size 640x480 with 1 Axes>"
      ]
     },
     "metadata": {},
     "output_type": "display_data"
    }
   ],
   "source": [
    "sns.boxplot(x='Fireplaces', y='SalePrice', data=clean_df)\n",
    "plt.title('Sale Price by Number of Fireplaces')\n",
    "plt.show()"
   ]
  },
  {
   "cell_type": "code",
   "execution_count": 16,
   "id": "7c579a5a",
   "metadata": {},
   "outputs": [
    {
     "data": {
      "image/png": "[encoded data removed]",
      "text/plain": [
       "<Figure size 640x480 with 1 Axes>"
      ]
     },
     "metadata": {},
     "output_type": "display_data"
    }
   ],
   "source": [
    "\"Bar plot of mean sale price per fireplace count\"\n",
    "clean_df.groupby('Fireplaces')['SalePrice'].mean().plot(kind='bar')\n",
    "plt.ylabel('Average Sale Price')\n",
    "plt.title('Average Sale Price by Number of Fireplaces')\n",
    "plt.show()"
   ]
  },
  {
   "cell_type": "markdown",
   "id": "32f7762a",
   "metadata": {},
   "source": [
    "Given by the above plots there seems to be a direct corelation between how many fireplaces a house has and its price, and the quant analysis shows that the fireplace column is populated plenty."
   ]
  },
  {
   "cell_type": "code",
   "execution_count": 17,
   "id": "3f627ce5",
   "metadata": {},
   "outputs": [
    {
     "name": "stdout",
     "output_type": "stream",
     "text": [
      "Fireplace Quality value counts, for existing values:\n",
      "Fireplace Qu\n",
      "Gd    744\n",
      "TA    600\n",
      "Fa     75\n",
      "Po     46\n",
      "Ex     43\n",
      "Name: count, dtype: int64\n",
      "Number of missing values in 'Fireplace Qu':\n",
      "1422\n",
      "Percentage of missing values in 'Fireplace Qu': 48.53%\n"
     ]
    }
   ],
   "source": [
    "print(\"Fireplace Quality value counts, for existing values:\")\n",
    "print(clean_df['Fireplace Qu'].value_counts())\n",
    "print(\"Number of missing values in 'Fireplace Qu':\")\n",
    "print(clean_df['Fireplace Qu'].isna().sum())\n",
    "print(\"Percentage of missing values in 'Fireplace Qu': {:.2f}%\".format((clean_df['Fireplace Qu'].isna().sum() / len(clean_df)) * 100))"
   ]
  },
  {
   "cell_type": "markdown",
   "id": "ba4efce6",
   "metadata": {},
   "source": [
    "This is the same percentage as the houses that have no fireplace, so we cant ignore this column based only on the non existing values, we need to test how the Qu column affects the price."
   ]
  },
  {
   "cell_type": "code",
   "execution_count": 18,
   "id": "28351ad6",
   "metadata": {},
   "outputs": [
    {
     "data": {
      "image/png": "[encoded data removed]",
      "text/plain": [
       "<Figure size 640x480 with 1 Axes>"
      ]
     },
     "metadata": {},
     "output_type": "display_data"
    }
   ],
   "source": [
    "order = ['Po', 'Fa', 'TA', 'Gd', 'Ex']\n",
    "sns.boxplot(x='Fireplace Qu', y='SalePrice', data=clean_df, order=order)\n",
    "plt.xlabel('Fireplace Quality')\n",
    "plt.ylabel('Sale Price')\n",
    "plt.title('Sale Price vs Fireplace Quality')\n",
    "plt.show()"
   ]
  },
  {
   "cell_type": "code",
   "execution_count": 19,
   "id": "bba4ef9a",
   "metadata": {},
   "outputs": [
    {
     "data": {
      "image/png": "[encoded data removed]",
      "text/plain": [
       "<Figure size 640x480 with 1 Axes>"
      ]
     },
     "metadata": {},
     "output_type": "display_data"
    }
   ],
   "source": [
    "clean_df.groupby('Fireplace Qu')['SalePrice'].mean().reindex(order).plot(kind='bar')\n",
    "plt.xlabel('Fireplace Quality')\n",
    "plt.ylabel('Average Sale Price')\n",
    "plt.title('Average Sale Price by Fireplace Quality')\n",
    "plt.show()"
   ]
  },
  {
   "cell_type": "markdown",
   "id": "c5804ac1",
   "metadata": {},
   "source": [
    "Shown by the above 2 plots the quality of the fireplace is meaningfull, so the next logical step would be to split the feature into features of numerical values with noe hot encoding. We will use the df_noPool copy to first replace the NaN valuse with \"None\" for the Qu feature, the apply one hot encoding."
   ]
  },
  {
   "cell_type": "code",
   "execution_count": 20,
   "id": "3ae59f6a",
   "metadata": {},
   "outputs": [],
   "source": [
    "# Fill missing Fireplace Quality with \"None\"\n",
    "df_noPool['Fireplace Qu'] = df_noPool['Fireplace Qu'].fillna('None')"
   ]
  },
  {
   "cell_type": "code",
   "execution_count": 21,
   "id": "ef6b07a8",
   "metadata": {},
   "outputs": [
    {
     "name": "stdout",
     "output_type": "stream",
     "text": [
      "   FireplaceQu_Ex  FireplaceQu_Fa  FireplaceQu_Gd  FireplaceQu_None  \\\n",
      "0               0               0               1                 0   \n",
      "1               0               0               0                 1   \n",
      "2               0               0               0                 1   \n",
      "3               0               0               0                 0   \n",
      "4               0               0               0                 0   \n",
      "\n",
      "   FireplaceQu_Po  FireplaceQu_TA  \n",
      "0               0               0  \n",
      "1               0               0  \n",
      "2               0               0  \n",
      "3               0               1  \n",
      "4               0               1  \n"
     ]
    }
   ],
   "source": [
    "# One-hot encode the Fireplace Quality column\n",
    "df_noPool = pd.get_dummies(df_noPool, columns=['Fireplace Qu'], prefix='FireplaceQu', dtype=int)\n",
    "\n",
    "print(df_noPool.filter(like='FireplaceQu_').head())"
   ]
  },
  {
   "cell_type": "markdown",
   "id": "b98125db",
   "metadata": {},
   "source": [
    "[[ keep in mind possibility for another feature: \"fireplace score like: quality * number of fireplaces\"]]"
   ]
  },
  {
   "cell_type": "markdown",
   "id": "399c0b82",
   "metadata": {},
   "source": [
    "we are also dropping the 'Order' and 'PID' columns from our copy df as they are meaningless"
   ]
  },
  {
   "cell_type": "code",
   "execution_count": 22,
   "id": "48412073",
   "metadata": {},
   "outputs": [
    {
     "name": "stdout",
     "output_type": "stream",
     "text": [
      "<class 'pandas.core.frame.DataFrame'>\n",
      "RangeIndex: 2930 entries, 0 to 2929\n",
      "Data columns (total 84 columns):\n",
      " #   Column            Non-Null Count  Dtype  \n",
      "---  ------            --------------  -----  \n",
      " 0   MS SubClass       2930 non-null   int64  \n",
      " 1   MS Zoning         2930 non-null   object \n",
      " 2   Lot Frontage      2440 non-null   float64\n",
      " 3   Lot Area          2930 non-null   int64  \n",
      " 4   Street            2930 non-null   object \n",
      " 5   Alley             198 non-null    object \n",
      " 6   Lot Shape         2930 non-null   object \n",
      " 7   Land Contour      2930 non-null   object \n",
      " 8   Utilities         2930 non-null   object \n",
      " 9   Lot Config        2930 non-null   object \n",
      " 10  Land Slope        2930 non-null   object \n",
      " 11  Neighborhood      2930 non-null   object \n",
      " 12  Condition 1       2930 non-null   object \n",
      " 13  Condition 2       2930 non-null   object \n",
      " 14  Bldg Type         2930 non-null   object \n",
      " 15  House Style       2930 non-null   object \n",
      " 16  Overall Qual      2930 non-null   int64  \n",
      " 17  Overall Cond      2930 non-null   int64  \n",
      " 18  Year Built        2930 non-null   int64  \n",
      " 19  Year Remod/Add    2930 non-null   int64  \n",
      " 20  Roof Style        2930 non-null   object \n",
      " 21  Roof Matl         2930 non-null   object \n",
      " 22  Exterior 1st      2930 non-null   object \n",
      " 23  Exterior 2nd      2930 non-null   object \n",
      " 24  Mas Vnr Type      1155 non-null   object \n",
      " 25  Mas Vnr Area      2907 non-null   float64\n",
      " 26  Exter Qual        2930 non-null   object \n",
      " 27  Exter Cond        2930 non-null   object \n",
      " 28  Foundation        2930 non-null   object \n",
      " 29  Bsmt Qual         2850 non-null   object \n",
      " 30  Bsmt Cond         2850 non-null   object \n",
      " 31  Bsmt Exposure     2847 non-null   object \n",
      " 32  BsmtFin Type 1    2850 non-null   object \n",
      " 33  BsmtFin SF 1      2929 non-null   float64\n",
      " 34  BsmtFin Type 2    2849 non-null   object \n",
      " 35  BsmtFin SF 2      2929 non-null   float64\n",
      " 36  Bsmt Unf SF       2929 non-null   float64\n",
      " 37  Total Bsmt SF     2929 non-null   float64\n",
      " 38  Heating           2930 non-null   object \n",
      " 39  Heating QC        2930 non-null   object \n",
      " 40  Central Air       2930 non-null   object \n",
      " 41  Electrical        2929 non-null   object \n",
      " 42  1st Flr SF        2930 non-null   int64  \n",
      " 43  2nd Flr SF        2930 non-null   int64  \n",
      " 44  Low Qual Fin SF   2930 non-null   int64  \n",
      " 45  Gr Liv Area       2930 non-null   int64  \n",
      " 46  Bsmt Full Bath    2928 non-null   float64\n",
      " 47  Bsmt Half Bath    2928 non-null   float64\n",
      " 48  Full Bath         2930 non-null   int64  \n",
      " 49  Half Bath         2930 non-null   int64  \n",
      " 50  Bedroom AbvGr     2930 non-null   int64  \n",
      " 51  Kitchen AbvGr     2930 non-null   int64  \n",
      " 52  Kitchen Qual      2930 non-null   object \n",
      " 53  TotRms AbvGrd     2930 non-null   int64  \n",
      " 54  Functional        2930 non-null   object \n",
      " 55  Fireplaces        2930 non-null   int64  \n",
      " 56  Garage Type       2773 non-null   object \n",
      " 57  Garage Yr Blt     2771 non-null   float64\n",
      " 58  Garage Finish     2771 non-null   object \n",
      " 59  Garage Cars       2929 non-null   float64\n",
      " 60  Garage Area       2929 non-null   float64\n",
      " 61  Garage Qual       2771 non-null   object \n",
      " 62  Garage Cond       2771 non-null   object \n",
      " 63  Paved Drive       2930 non-null   object \n",
      " 64  Wood Deck SF      2930 non-null   int64  \n",
      " 65  Open Porch SF     2930 non-null   int64  \n",
      " 66  Enclosed Porch    2930 non-null   int64  \n",
      " 67  3Ssn Porch        2930 non-null   int64  \n",
      " 68  Screen Porch      2930 non-null   int64  \n",
      " 69  Fence             572 non-null    object \n",
      " 70  Misc Feature      106 non-null    object \n",
      " 71  Misc Val          2930 non-null   int64  \n",
      " 72  Mo Sold           2930 non-null   int64  \n",
      " 73  Yr Sold           2930 non-null   int64  \n",
      " 74  Sale Type         2930 non-null   object \n",
      " 75  Sale Condition    2930 non-null   object \n",
      " 76  SalePrice         2930 non-null   int64  \n",
      " 77  hasPool           2930 non-null   int64  \n",
      " 78  FireplaceQu_Ex    2930 non-null   int64  \n",
      " 79  FireplaceQu_Fa    2930 non-null   int64  \n",
      " 80  FireplaceQu_Gd    2930 non-null   int64  \n",
      " 81  FireplaceQu_None  2930 non-null   int64  \n",
      " 82  FireplaceQu_Po    2930 non-null   int64  \n",
      " 83  FireplaceQu_TA    2930 non-null   int64  \n",
      "dtypes: float64(11), int64(32), object(41)\n",
      "memory usage: 1.9+ MB\n",
      "None\n"
     ]
    }
   ],
   "source": [
    "df_copy = df_noPool.drop(['Order', 'PID'], axis=1)\n",
    "print(df_copy.info())"
   ]
  },
  {
   "cell_type": "markdown",
   "id": "450b433e",
   "metadata": {},
   "source": [
    "Next we are observing the alley and street features."
   ]
  },
  {
   "cell_type": "code",
   "execution_count": 23,
   "id": "e6e9cd63",
   "metadata": {},
   "outputs": [
    {
     "name": "stdout",
     "output_type": "stream",
     "text": [
      "Alley\n",
      "NaN     2732\n",
      "Grvl     120\n",
      "Pave      78\n",
      "Name: count, dtype: int64\n"
     ]
    }
   ],
   "source": [
    "alley = clean_df['Alley'].value_counts(dropna=False)\n",
    "print(alley)"
   ]
  },
  {
   "cell_type": "code",
   "execution_count": 24,
   "id": "05f5ea86",
   "metadata": {},
   "outputs": [
    {
     "name": "stdout",
     "output_type": "stream",
     "text": [
      "Street\n",
      "Pave    2918\n",
      "Grvl      12\n",
      "Name: count, dtype: int64\n"
     ]
    }
   ],
   "source": [
    "street = clean_df['Street'].value_counts(dropna=False)\n",
    "print(street)"
   ]
  },
  {
   "cell_type": "markdown",
   "id": "c2664309",
   "metadata": {},
   "source": [
    "The alley feature is sparsly populated so we decided to remove it completly from our copy."
   ]
  },
  {
   "cell_type": "code",
   "execution_count": 25,
   "id": "64e944eb",
   "metadata": {},
   "outputs": [],
   "source": [
    "df_copy = df_copy.drop(['Alley'], axis=1)"
   ]
  },
  {
   "cell_type": "code",
   "execution_count": 26,
   "id": "e6fa45cd",
   "metadata": {},
   "outputs": [
    {
     "data": {
      "text/plain": [
       "Street\n",
       "Grvl    106663.333333\n",
       "Pave    181100.923920\n",
       "Name: SalePrice, dtype: float64"
      ]
     },
     "execution_count": 26,
     "metadata": {},
     "output_type": "execute_result"
    }
   ],
   "source": [
    "# Cheking the relevance of the street feature\n",
    "clean_df.groupby('Street')['SalePrice'].mean()"
   ]
  },
  {
   "cell_type": "code",
   "execution_count": 27,
   "id": "3951da55",
   "metadata": {},
   "outputs": [
    {
     "data": {
      "text/plain": [
       "<Axes: xlabel='Street', ylabel='SalePrice'>"
      ]
     },
     "execution_count": 27,
     "metadata": {},
     "output_type": "execute_result"
    },
    {
     "data": {
      "image/png": "[encoded data removed]",
      "text/plain": [
       "<Figure size 640x480 with 1 Axes>"
      ]
     },
     "metadata": {},
     "output_type": "display_data"
    }
   ],
   "source": [
    "sns.boxplot(x='Street', y='SalePrice', data=clean_df)"
   ]
  },
  {
   "cell_type": "markdown",
   "id": "bc0d8ecf",
   "metadata": {},
   "source": [
    "To keep the data that points to gravel we will replace our Street feature with a Paved_Street feature that has 1 for paved and 0 for gravel, we are losing no information by doing this because all houses are linked to a street of one of the two types."
   ]
  },
  {
   "cell_type": "code",
   "execution_count": 28,
   "id": "73c1fc1e",
   "metadata": {},
   "outputs": [],
   "source": [
    "df_copy['Paved_Street'] = (df_copy['Street'] == 'Pave').astype(int)"
   ]
  },
  {
   "cell_type": "code",
   "execution_count": 29,
   "id": "0eee029e",
   "metadata": {},
   "outputs": [],
   "source": [
    "df_copy.drop('Street', axis=1, inplace=True)"
   ]
  },
  {
   "cell_type": "code",
   "execution_count": 30,
   "id": "b19535b7",
   "metadata": {},
   "outputs": [
    {
     "name": "stdout",
     "output_type": "stream",
     "text": [
      "Misc Feature     2824\n",
      "Fence            2358\n",
      "Mas Vnr Type     1775\n",
      "Lot Frontage      490\n",
      "Garage Finish     159\n",
      "Garage Cond       159\n",
      "Garage Yr Blt     159\n",
      "Garage Qual       159\n",
      "Garage Type       157\n",
      "Bsmt Exposure      83\n",
      "dtype: int64\n"
     ]
    }
   ],
   "source": [
    "# check number of missing values per feature in our modified dataframe\n",
    "missing = df_copy.isnull().sum().sort_values(ascending=False).head(10)\n",
    "print(missing)"
   ]
  },
  {
   "cell_type": "markdown",
   "id": "c8b1eaf0",
   "metadata": {},
   "source": [
    "Next we will keep our focus on the 3 most unpopulated features, starting with Misc Feature(cupled with Misc Val)."
   ]
  },
  {
   "cell_type": "code",
   "execution_count": 31,
   "id": "ea14139f",
   "metadata": {},
   "outputs": [
    {
     "name": "stdout",
     "output_type": "stream",
     "text": [
      "  Misc Feature  Misc Val\n",
      "0          NaN         0\n",
      "1          NaN         0\n",
      "2         Gar2     12500\n",
      "3          NaN         0\n",
      "4          NaN         0\n",
      "5          NaN         0\n",
      "6          NaN         0\n",
      "7          NaN         0\n",
      "8          NaN         0\n",
      "9          NaN         0\n"
     ]
    }
   ],
   "source": [
    "print(clean_df[['Misc Feature', 'Misc Val']].head(10))"
   ]
  },
  {
   "cell_type": "code",
   "execution_count": 32,
   "id": "bf7d6ce6",
   "metadata": {},
   "outputs": [
    {
     "name": "stdout",
     "output_type": "stream",
     "text": [
      "Misc Feature\n",
      "NaN     2824\n",
      "Shed      95\n",
      "Gar2       5\n",
      "Othr       4\n",
      "Elev       1\n",
      "TenC       1\n",
      "Name: count, dtype: int64\n"
     ]
    }
   ],
   "source": [
    "print(clean_df['Misc Feature'].value_counts(dropna=False))"
   ]
  },
  {
   "cell_type": "markdown",
   "id": "fdf506b9",
   "metadata": {},
   "source": [
    "We will test if there is a significan price difference in houses that have Misc Features."
   ]
  },
  {
   "cell_type": "code",
   "execution_count": 33,
   "id": "db137c6a",
   "metadata": {},
   "outputs": [
    {
     "data": {
      "text/plain": [
       "Misc Val\n",
       "False    181751.077821\n",
       "True     154584.067961\n",
       "Name: SalePrice, dtype: float64"
      ]
     },
     "execution_count": 33,
     "metadata": {},
     "output_type": "execute_result"
    }
   ],
   "source": [
    "clean_df.groupby(clean_df['Misc Val'] > 0)['SalePrice'].mean()"
   ]
  },
  {
   "cell_type": "markdown",
   "id": "dc6e1ef0",
   "metadata": {},
   "source": [
    "The feature seems to have a negative corelation with the sale price(perhaps: \"houses with sheds are cheaper\" and so the price of the 1 house with an elevator does not bring up the average enough). Based on the analysis keeping either one of the features is not meaningfull, they add noise to our data."
   ]
  },
  {
   "cell_type": "code",
   "execution_count": 34,
   "id": "c68cfade",
   "metadata": {},
   "outputs": [],
   "source": [
    "df_copy.drop(['Misc Feature', 'Misc Val'], axis=1, inplace=True)"
   ]
  },
  {
   "cell_type": "markdown",
   "id": "948541be",
   "metadata": {},
   "source": [
    "Next we will observe the Fence feature."
   ]
  },
  {
   "cell_type": "code",
   "execution_count": 35,
   "id": "f3a014e2",
   "metadata": {},
   "outputs": [
    {
     "name": "stdout",
     "output_type": "stream",
     "text": [
      "Fence\n",
      "NaN      2358\n",
      "MnPrv     330\n",
      "GdPrv     118\n",
      "GdWo      112\n",
      "MnWw       12\n",
      "Name: count, dtype: int64\n"
     ]
    }
   ],
   "source": [
    "print(clean_df['Fence'].value_counts(dropna=False))"
   ]
  },
  {
   "cell_type": "code",
   "execution_count": 36,
   "id": "779eb2e8",
   "metadata": {},
   "outputs": [
    {
     "data": {
      "text/plain": [
       "Fence\n",
       "GdPrv    176465.915254\n",
       "MnPrv    146189.984848\n",
       "GdWo     141993.508929\n",
       "MnWw     133720.833333\n",
       "Name: SalePrice, dtype: float64"
      ]
     },
     "execution_count": 36,
     "metadata": {},
     "output_type": "execute_result"
    }
   ],
   "source": [
    "clean_df.groupby('Fence')['SalePrice'].mean().sort_values(ascending=False)"
   ]
  },
  {
   "cell_type": "code",
   "execution_count": 37,
   "id": "57e0f019",
   "metadata": {},
   "outputs": [
    {
     "data": {
      "text/plain": [
       "<Axes: xlabel='Fence', ylabel='SalePrice'>"
      ]
     },
     "execution_count": 37,
     "metadata": {},
     "output_type": "execute_result"
    },
    {
     "data": {
      "image/png": "[encoded data removed]",
      "text/plain": [
       "<Figure size 640x480 with 1 Axes>"
      ]
     },
     "metadata": {},
     "output_type": "display_data"
    }
   ],
   "source": [
    "order = ['MnWw', 'GdWo', 'MnPrv', 'GdPrv']\n",
    "\n",
    "sns.boxplot(x='Fence', y='SalePrice', data=clean_df, order=order)"
   ]
  },
  {
   "cell_type": "markdown",
   "id": "ee995085",
   "metadata": {},
   "source": [
    "There is some concern about the validity of the terms for this feature but for simplicitys sake we will go on with: GdPrv > MnPrv > GdWo > MnWw > NoFence. Beacouse of the proportional relation of fence type to house price we will have fence as a ordinal numerical feature and encode it as such."
   ]
  },
  {
   "cell_type": "code",
   "execution_count": 38,
   "id": "4f68fdf4",
   "metadata": {},
   "outputs": [],
   "source": [
    "fence_mapping = {\n",
    "    'GdPrv': 4,\n",
    "    'MnPrv': 3,\n",
    "    'GdWo': 2,\n",
    "    'MnWw': 1,\n",
    "    np.nan: 0  # No fence\n",
    "}\n",
    "df_copy['Fence_Quality'] = df_copy['Fence'].map(fence_mapping)\n",
    "df_copy.drop('Fence', axis=1, inplace=True)"
   ]
  },
  {
   "cell_type": "code",
   "execution_count": 39,
   "id": "b75cd15b",
   "metadata": {},
   "outputs": [
    {
     "name": "stdout",
     "output_type": "stream",
     "text": [
      "Fence_Quality\n",
      "0    2358\n",
      "3     330\n",
      "4     118\n",
      "2     112\n",
      "1      12\n",
      "Name: count, dtype: int64\n"
     ]
    }
   ],
   "source": [
    "print(df_copy['Fence_Quality'].value_counts(dropna=False))"
   ]
  },
  {
   "cell_type": "markdown",
   "id": "39c0e55f",
   "metadata": {},
   "source": [
    "Moving on with the last sparsly populated column: Mas Vnr Type "
   ]
  },
  {
   "cell_type": "code",
   "execution_count": 40,
   "id": "7ef3e049",
   "metadata": {},
   "outputs": [
    {
     "name": "stdout",
     "output_type": "stream",
     "text": [
      "Mas Vnr Type\n",
      "NaN        1775\n",
      "BrkFace     880\n",
      "Stone       249\n",
      "BrkCmn       25\n",
      "CBlock        1\n",
      "Name: count, dtype: int64\n"
     ]
    }
   ],
   "source": [
    "print(clean_df['Mas Vnr Type'].value_counts(dropna=False))"
   ]
  },
  {
   "cell_type": "markdown",
   "id": "b95ce591",
   "metadata": {},
   "source": [
    "Because CBlock has only one entry we can safely remove that whole row from our copy df."
   ]
  },
  {
   "cell_type": "code",
   "execution_count": 41,
   "id": "e84b0806",
   "metadata": {},
   "outputs": [],
   "source": [
    "df_copy = df_copy[df_copy['Mas Vnr Type'] != 'CBlock']"
   ]
  },
  {
   "cell_type": "code",
   "execution_count": 42,
   "id": "175a69ca",
   "metadata": {},
   "outputs": [
    {
     "name": "stdout",
     "output_type": "stream",
     "text": [
      "Mas Vnr Type\n",
      "NaN        1775\n",
      "BrkFace     880\n",
      "Stone       249\n",
      "BrkCmn       25\n",
      "Name: count, dtype: int64\n"
     ]
    }
   ],
   "source": [
    "print(df_copy['Mas Vnr Type'].value_counts(dropna=False))"
   ]
  },
  {
   "cell_type": "code",
   "execution_count": 43,
   "id": "7f22ceff",
   "metadata": {},
   "outputs": [
    {
     "data": {
      "text/plain": [
       "Mas Vnr Type\n",
       "Stone      260547.297189\n",
       "BrkFace    210798.592045\n",
       "BrkCmn     140199.000000\n",
       "CBlock      80000.000000\n",
       "Name: SalePrice, dtype: float64"
      ]
     },
     "execution_count": 43,
     "metadata": {},
     "output_type": "execute_result"
    }
   ],
   "source": [
    "clean_df.groupby('Mas Vnr Type')['SalePrice'].mean().sort_values(ascending=False)"
   ]
  },
  {
   "cell_type": "markdown",
   "id": "206bd73d",
   "metadata": {},
   "source": [
    "Based on the average prices for each type our order will be: Stone>BrkFace>BrkCmn>Cblock>None"
   ]
  },
  {
   "cell_type": "code",
   "execution_count": 44,
   "id": "0e09f5a9",
   "metadata": {},
   "outputs": [
    {
     "data": {
      "text/plain": [
       "<Axes: xlabel='Mas Vnr Type', ylabel='SalePrice'>"
      ]
     },
     "execution_count": 44,
     "metadata": {},
     "output_type": "execute_result"
    },
    {
     "data": {
      "image/png": "[encoded data removed]",
      "text/plain": [
       "<Figure size 640x480 with 1 Axes>"
      ]
     },
     "metadata": {},
     "output_type": "display_data"
    }
   ],
   "source": [
    "order = ['CBlock', 'BrkCmn', 'BrkFace', 'Stone']\n",
    "\n",
    "sns.boxplot(x='Mas Vnr Type', y='SalePrice', data=clean_df, order=order)"
   ]
  },
  {
   "cell_type": "markdown",
   "id": "14a02d9f",
   "metadata": {},
   "source": [
    "This feature also corelates with Mas Vnr Area."
   ]
  },
  {
   "cell_type": "code",
   "execution_count": 45,
   "id": "91b1e828",
   "metadata": {},
   "outputs": [
    {
     "data": {
      "text/html": [
       "<div>\n",
       "<style scoped>\n",
       "    .dataframe tbody tr th:only-of-type {\n",
       "        vertical-align: middle;\n",
       "    }\n",
       "\n",
       "    .dataframe tbody tr th {\n",
       "        vertical-align: top;\n",
       "    }\n",
       "\n",
       "    .dataframe thead th {\n",
       "        text-align: right;\n",
       "    }\n",
       "</style>\n",
       "<table border=\"1\" class=\"dataframe\">\n",
       "  <thead>\n",
       "    <tr style=\"text-align: right;\">\n",
       "      <th></th>\n",
       "      <th>Mas Vnr Area</th>\n",
       "      <th>Mas Vnr Type</th>\n",
       "    </tr>\n",
       "  </thead>\n",
       "  <tbody>\n",
       "    <tr>\n",
       "      <th>55</th>\n",
       "      <td>NaN</td>\n",
       "      <td>NaN</td>\n",
       "    </tr>\n",
       "    <tr>\n",
       "      <th>484</th>\n",
       "      <td>NaN</td>\n",
       "      <td>NaN</td>\n",
       "    </tr>\n",
       "    <tr>\n",
       "      <th>517</th>\n",
       "      <td>NaN</td>\n",
       "      <td>NaN</td>\n",
       "    </tr>\n",
       "    <tr>\n",
       "      <th>538</th>\n",
       "      <td>NaN</td>\n",
       "      <td>NaN</td>\n",
       "    </tr>\n",
       "    <tr>\n",
       "      <th>867</th>\n",
       "      <td>NaN</td>\n",
       "      <td>NaN</td>\n",
       "    </tr>\n",
       "    <tr>\n",
       "      <th>1095</th>\n",
       "      <td>NaN</td>\n",
       "      <td>NaN</td>\n",
       "    </tr>\n",
       "    <tr>\n",
       "      <th>1119</th>\n",
       "      <td>NaN</td>\n",
       "      <td>NaN</td>\n",
       "    </tr>\n",
       "    <tr>\n",
       "      <th>1122</th>\n",
       "      <td>NaN</td>\n",
       "      <td>NaN</td>\n",
       "    </tr>\n",
       "    <tr>\n",
       "      <th>1127</th>\n",
       "      <td>NaN</td>\n",
       "      <td>NaN</td>\n",
       "    </tr>\n",
       "    <tr>\n",
       "      <th>1184</th>\n",
       "      <td>NaN</td>\n",
       "      <td>NaN</td>\n",
       "    </tr>\n",
       "    <tr>\n",
       "      <th>1454</th>\n",
       "      <td>NaN</td>\n",
       "      <td>NaN</td>\n",
       "    </tr>\n",
       "    <tr>\n",
       "      <th>1727</th>\n",
       "      <td>NaN</td>\n",
       "      <td>NaN</td>\n",
       "    </tr>\n",
       "    <tr>\n",
       "      <th>1751</th>\n",
       "      <td>NaN</td>\n",
       "      <td>NaN</td>\n",
       "    </tr>\n",
       "    <tr>\n",
       "      <th>1783</th>\n",
       "      <td>NaN</td>\n",
       "      <td>NaN</td>\n",
       "    </tr>\n",
       "    <tr>\n",
       "      <th>1799</th>\n",
       "      <td>NaN</td>\n",
       "      <td>NaN</td>\n",
       "    </tr>\n",
       "    <tr>\n",
       "      <th>1839</th>\n",
       "      <td>NaN</td>\n",
       "      <td>NaN</td>\n",
       "    </tr>\n",
       "    <tr>\n",
       "      <th>1840</th>\n",
       "      <td>NaN</td>\n",
       "      <td>NaN</td>\n",
       "    </tr>\n",
       "    <tr>\n",
       "      <th>2229</th>\n",
       "      <td>NaN</td>\n",
       "      <td>NaN</td>\n",
       "    </tr>\n",
       "    <tr>\n",
       "      <th>2260</th>\n",
       "      <td>NaN</td>\n",
       "      <td>NaN</td>\n",
       "    </tr>\n",
       "    <tr>\n",
       "      <th>2382</th>\n",
       "      <td>NaN</td>\n",
       "      <td>NaN</td>\n",
       "    </tr>\n",
       "    <tr>\n",
       "      <th>2392</th>\n",
       "      <td>NaN</td>\n",
       "      <td>NaN</td>\n",
       "    </tr>\n",
       "    <tr>\n",
       "      <th>2455</th>\n",
       "      <td>NaN</td>\n",
       "      <td>NaN</td>\n",
       "    </tr>\n",
       "    <tr>\n",
       "      <th>2823</th>\n",
       "      <td>NaN</td>\n",
       "      <td>NaN</td>\n",
       "    </tr>\n",
       "  </tbody>\n",
       "</table>\n",
       "</div>"
      ],
      "text/plain": [
       "      Mas Vnr Area Mas Vnr Type\n",
       "55             NaN          NaN\n",
       "484            NaN          NaN\n",
       "517            NaN          NaN\n",
       "538            NaN          NaN\n",
       "867            NaN          NaN\n",
       "1095           NaN          NaN\n",
       "1119           NaN          NaN\n",
       "1122           NaN          NaN\n",
       "1127           NaN          NaN\n",
       "1184           NaN          NaN\n",
       "1454           NaN          NaN\n",
       "1727           NaN          NaN\n",
       "1751           NaN          NaN\n",
       "1783           NaN          NaN\n",
       "1799           NaN          NaN\n",
       "1839           NaN          NaN\n",
       "1840           NaN          NaN\n",
       "2229           NaN          NaN\n",
       "2260           NaN          NaN\n",
       "2382           NaN          NaN\n",
       "2392           NaN          NaN\n",
       "2455           NaN          NaN\n",
       "2823           NaN          NaN"
      ]
     },
     "execution_count": 45,
     "metadata": {},
     "output_type": "execute_result"
    }
   ],
   "source": [
    "clean_df.loc[clean_df['Mas Vnr Area'].isna(), ['Mas Vnr Area', 'Mas Vnr Type']]\n",
    "# we can suppose that these rows have missing info"
   ]
  },
  {
   "cell_type": "code",
   "execution_count": 46,
   "id": "4bffc32f",
   "metadata": {},
   "outputs": [],
   "source": [
    "masonry_mapping = {\n",
    "    'BrkCmn': 1,\n",
    "    'BrkFace': 2,\n",
    "    'Stone': 3,\n",
    "    np.nan: 0\n",
    "}\n",
    "df_copy['MasVnr_Quality'] = df_copy['Mas Vnr Type'].map(masonry_mapping)\n",
    "df_copy['Mas Vnr Area'] = df_copy['Mas Vnr Area'].fillna(0)\n",
    "df_copy.drop('Mas Vnr Type', axis=1, inplace=True)"
   ]
  },
  {
   "cell_type": "markdown",
   "id": "ce72ef38",
   "metadata": {},
   "source": [
    "We mapped the concrete values to numerical values and replaced missing values with 0 for both features."
   ]
  },
  {
   "cell_type": "code",
   "execution_count": 47,
   "id": "9af8d018",
   "metadata": {},
   "outputs": [
    {
     "name": "stdout",
     "output_type": "stream",
     "text": [
      "Lot Frontage      490\n",
      "Garage Finish     159\n",
      "Garage Yr Blt     159\n",
      "Garage Cond       159\n",
      "Garage Qual       159\n",
      "Garage Type       157\n",
      "Bsmt Exposure      83\n",
      "BsmtFin Type 2     81\n",
      "Bsmt Qual          80\n",
      "Bsmt Cond          80\n",
      "dtype: int64\n"
     ]
    }
   ],
   "source": [
    "missing = df_copy.isnull().sum().sort_values(ascending=False).head(10)\n",
    "print(missing)"
   ]
  },
  {
   "cell_type": "code",
   "execution_count": 48,
   "id": "a99ca3a3",
   "metadata": {},
   "outputs": [
    {
     "data": {
      "image/png": "[encoded data removed]",
      "text/plain": [
       "<Figure size 1000x600 with 1 Axes>"
      ]
     },
     "metadata": {},
     "output_type": "display_data"
    }
   ],
   "source": [
    "plt.figure(figsize=(10, 6))\n",
    "plt.scatter(missing.index, missing.values, color='blue', alpha=0.7)\n",
    "\n",
    "# Add labels and title\n",
    "plt.xticks(rotation=90)\n",
    "plt.xlabel(\"Feature (Ox)\")\n",
    "plt.ylabel(\"Number of Missing Values (Oy)\")\n",
    "plt.title(\"Top 30 Features by Missing Values\")\n",
    "\n",
    "# Make layout tidy and show plot\n",
    "plt.tight_layout()\n",
    "plt.show()"
   ]
  },
  {
   "cell_type": "markdown",
   "id": "093e2466",
   "metadata": {},
   "source": [
    "Next we will tackle the features with a median amount of missing values, starting with Lot frontage."
   ]
  },
  {
   "cell_type": "code",
   "execution_count": 49,
   "id": "5726f4ca",
   "metadata": {},
   "outputs": [
    {
     "name": "stdout",
     "output_type": "stream",
     "text": [
      "   Lot Frontage  Lot Area\n",
      "0         141.0     31770\n",
      "1          80.0     11622\n",
      "2          81.0     14267\n",
      "3          93.0     11160\n",
      "4          74.0     13830\n",
      "5          78.0      9978\n",
      "6          41.0      4920\n",
      "7          43.0      5005\n",
      "8          39.0      5389\n",
      "9          60.0      7500\n"
     ]
    }
   ],
   "source": [
    "print(clean_df[['Lot Frontage', 'Lot Area']].head(10))"
   ]
  },
  {
   "cell_type": "code",
   "execution_count": 57,
   "id": "929593e8",
   "metadata": {},
   "outputs": [
    {
     "name": "stdout",
     "output_type": "stream",
     "text": [
      "Lot Frontage\n",
      "60.0     276\n",
      "80.0     137\n",
      "70.0     133\n",
      "50.0     117\n",
      "75.0     105\n",
      "        ... \n",
      "168.0      1\n",
      "111.0      1\n",
      "131.0      1\n",
      "153.0      1\n",
      "133.0      1\n",
      "Name: count, Length: 128, dtype: int64\n",
      "Number of missing values for 'Lot Frontage':\n",
      "490\n",
      "Number of missing values for 'Lot Area':\n",
      "0\n"
     ]
    }
   ],
   "source": [
    "print(clean_df['Lot Frontage'].value_counts())\n",
    "print(\"Number of missing values for 'Lot Frontage':\")\n",
    "print(clean_df['Lot Frontage'].isna().sum())\n",
    "print(\"Number of missing values for 'Lot Area':\")\n",
    "print(clean_df['Lot Area'].isna().sum())"
   ]
  },
  {
   "cell_type": "code",
   "execution_count": 59,
   "id": "a876a74f",
   "metadata": {},
   "outputs": [
    {
     "data": {
      "image/png": "[encoded data removed]",
      "text/plain": [
       "<Figure size 800x500 with 1 Axes>"
      ]
     },
     "metadata": {},
     "output_type": "display_data"
    }
   ],
   "source": [
    "frontage_data = df_copy[df_copy['Lot Frontage'].notna()]\n",
    "plt.figure(figsize=(8,5))\n",
    "plt.scatter(frontage_data['Lot Area'], frontage_data['Lot Frontage'])\n",
    "plt.xlabel('Lot Area (sq ft)')\n",
    "plt.ylabel('Lot Frontage (ft)')\n",
    "plt.title('Relationship between Lot Area and Lot Frontage')\n",
    "plt.show()"
   ]
  },
  {
   "cell_type": "code",
   "execution_count": 60,
   "id": "4d87ac1f",
   "metadata": {},
   "outputs": [
    {
     "name": "stdout",
     "output_type": "stream",
     "text": [
      "Correlation between Lot Area and Lot Frontage: 0.490\n"
     ]
    }
   ],
   "source": [
    "corr = frontage_data['Lot Area'].corr(frontage_data['Lot Frontage'])\n",
    "print(f\"Correlation between Lot Area and Lot Frontage: {corr:.3f}\")"
   ]
  },
  {
   "cell_type": "markdown",
   "id": "48ae6cef",
   "metadata": {},
   "source": [
    "r ≈ 0.7–0.9 → strong linear relationship (good for regression-based imputation)\n",
    "\n",
    "r ≈ 0.4–0.6 → moderate correlation\n",
    "\n",
    "r < 0.3 → weak relationship (you’ll need neighborhood-based imputation instead)"
   ]
  },
  {
   "cell_type": "markdown",
   "id": "bc59b8f4",
   "metadata": {},
   "source": [
    "Our value is not conclusive so we will widen our approuch to include the Neighbourhood feature."
   ]
  },
  {
   "cell_type": "code",
   "execution_count": 62,
   "id": "35c6368a",
   "metadata": {},
   "outputs": [
    {
     "data": {
      "text/html": [
       "<div>\n",
       "<style scoped>\n",
       "    .dataframe tbody tr th:only-of-type {\n",
       "        vertical-align: middle;\n",
       "    }\n",
       "\n",
       "    .dataframe tbody tr th {\n",
       "        vertical-align: top;\n",
       "    }\n",
       "\n",
       "    .dataframe thead th {\n",
       "        text-align: right;\n",
       "    }\n",
       "</style>\n",
       "<table border=\"1\" class=\"dataframe\">\n",
       "  <thead>\n",
       "    <tr style=\"text-align: right;\">\n",
       "      <th></th>\n",
       "      <th>Lot Frontage</th>\n",
       "    </tr>\n",
       "    <tr>\n",
       "      <th>Neighborhood</th>\n",
       "      <th></th>\n",
       "    </tr>\n",
       "  </thead>\n",
       "  <tbody>\n",
       "    <tr>\n",
       "      <th>BrDale</th>\n",
       "      <td>21.0</td>\n",
       "    </tr>\n",
       "    <tr>\n",
       "      <th>MeadowV</th>\n",
       "      <td>21.0</td>\n",
       "    </tr>\n",
       "    <tr>\n",
       "      <th>NPkVill</th>\n",
       "      <td>24.0</td>\n",
       "    </tr>\n",
       "    <tr>\n",
       "      <th>Blueste</th>\n",
       "      <td>24.0</td>\n",
       "    </tr>\n",
       "    <tr>\n",
       "      <th>Greens</th>\n",
       "      <td>40.0</td>\n",
       "    </tr>\n",
       "    <tr>\n",
       "      <th>Blmngtn</th>\n",
       "      <td>43.0</td>\n",
       "    </tr>\n",
       "    <tr>\n",
       "      <th>BrkSide</th>\n",
       "      <td>51.0</td>\n",
       "    </tr>\n",
       "    <tr>\n",
       "      <th>IDOTRR</th>\n",
       "      <td>60.0</td>\n",
       "    </tr>\n",
       "    <tr>\n",
       "      <th>OldTown</th>\n",
       "      <td>60.0</td>\n",
       "    </tr>\n",
       "    <tr>\n",
       "      <th>StoneBr</th>\n",
       "      <td>60.0</td>\n",
       "    </tr>\n",
       "    <tr>\n",
       "      <th>SWISU</th>\n",
       "      <td>60.0</td>\n",
       "    </tr>\n",
       "    <tr>\n",
       "      <th>Gilbert</th>\n",
       "      <td>64.0</td>\n",
       "    </tr>\n",
       "    <tr>\n",
       "      <th>Edwards</th>\n",
       "      <td>65.0</td>\n",
       "    </tr>\n",
       "    <tr>\n",
       "      <th>SawyerW</th>\n",
       "      <td>67.0</td>\n",
       "    </tr>\n",
       "    <tr>\n",
       "      <th>CollgCr</th>\n",
       "      <td>70.0</td>\n",
       "    </tr>\n",
       "    <tr>\n",
       "      <th>Crawfor</th>\n",
       "      <td>70.0</td>\n",
       "    </tr>\n",
       "    <tr>\n",
       "      <th>Sawyer</th>\n",
       "      <td>72.0</td>\n",
       "    </tr>\n",
       "    <tr>\n",
       "      <th>Somerst</th>\n",
       "      <td>72.5</td>\n",
       "    </tr>\n",
       "    <tr>\n",
       "      <th>NAmes</th>\n",
       "      <td>73.0</td>\n",
       "    </tr>\n",
       "    <tr>\n",
       "      <th>Mitchel</th>\n",
       "      <td>74.0</td>\n",
       "    </tr>\n",
       "    <tr>\n",
       "      <th>Veenker</th>\n",
       "      <td>80.0</td>\n",
       "    </tr>\n",
       "    <tr>\n",
       "      <th>NWAmes</th>\n",
       "      <td>80.0</td>\n",
       "    </tr>\n",
       "    <tr>\n",
       "      <th>ClearCr</th>\n",
       "      <td>80.5</td>\n",
       "    </tr>\n",
       "    <tr>\n",
       "      <th>Timber</th>\n",
       "      <td>82.0</td>\n",
       "    </tr>\n",
       "    <tr>\n",
       "      <th>NoRidge</th>\n",
       "      <td>89.0</td>\n",
       "    </tr>\n",
       "    <tr>\n",
       "      <th>NridgHt</th>\n",
       "      <td>92.0</td>\n",
       "    </tr>\n",
       "    <tr>\n",
       "      <th>GrnHill</th>\n",
       "      <td>NaN</td>\n",
       "    </tr>\n",
       "    <tr>\n",
       "      <th>Landmrk</th>\n",
       "      <td>NaN</td>\n",
       "    </tr>\n",
       "  </tbody>\n",
       "</table>\n",
       "</div>"
      ],
      "text/plain": [
       "              Lot Frontage\n",
       "Neighborhood              \n",
       "BrDale                21.0\n",
       "MeadowV               21.0\n",
       "NPkVill               24.0\n",
       "Blueste               24.0\n",
       "Greens                40.0\n",
       "Blmngtn               43.0\n",
       "BrkSide               51.0\n",
       "IDOTRR                60.0\n",
       "OldTown               60.0\n",
       "StoneBr               60.0\n",
       "SWISU                 60.0\n",
       "Gilbert               64.0\n",
       "Edwards               65.0\n",
       "SawyerW               67.0\n",
       "CollgCr               70.0\n",
       "Crawfor               70.0\n",
       "Sawyer                72.0\n",
       "Somerst               72.5\n",
       "NAmes                 73.0\n",
       "Mitchel               74.0\n",
       "Veenker               80.0\n",
       "NWAmes                80.0\n",
       "ClearCr               80.5\n",
       "Timber                82.0\n",
       "NoRidge               89.0\n",
       "NridgHt               92.0\n",
       "GrnHill                NaN\n",
       "Landmrk                NaN"
      ]
     },
     "execution_count": 62,
     "metadata": {},
     "output_type": "execute_result"
    }
   ],
   "source": [
    "clean_df[['Neighborhood', 'Lot Frontage']].groupby('Neighborhood').median().sort_values(by='Lot Frontage')\n"
   ]
  },
  {
   "cell_type": "markdown",
   "id": "eeba1335",
   "metadata": {},
   "source": [
    "We will be filling our missing values with the median for each neighbourhood, for the last 2 we will use the overall median."
   ]
  },
  {
   "cell_type": "code",
   "execution_count": null,
   "id": "0912901f",
   "metadata": {},
   "outputs": [],
   "source": [
    "overall_median = df_copy['Lot Frontage'].median()\n",
    "\n",
    "df_copy['Lot Frontage'] = df_copy.groupby('Neighborhood')['Lot Frontage'].transform(\n",
    "    lambda x: x.fillna(x.median() if not np.isnan(x.median()) else overall_median)\n",
    ")"
   ]
  },
  {
   "cell_type": "code",
   "execution_count": 64,
   "id": "2495c157",
   "metadata": {},
   "outputs": [
    {
     "name": "stdout",
     "output_type": "stream",
     "text": [
      "0\n"
     ]
    }
   ],
   "source": [
    "print(df_copy['Lot Frontage'].isna().sum())"
   ]
  },
  {
   "cell_type": "code",
   "execution_count": 67,
   "id": "c4f7f698",
   "metadata": {},
   "outputs": [
    {
     "data": {
      "image/png": "[encoded data removed]",
      "text/plain": [
       "<Figure size 1000x600 with 1 Axes>"
      ]
     },
     "metadata": {},
     "output_type": "display_data"
    }
   ],
   "source": [
    "lot_frontage_before = clean_df['Lot Frontage'].copy()\n",
    "\n",
    "plt.figure(figsize=(10,6))\n",
    "\n",
    "# Plot known values (before)\n",
    "sns.kdeplot(lot_frontage_before.dropna(), label='Before (known values only)', fill=True, alpha=0.5)\n",
    "\n",
    "# Plot after imputation (all values)\n",
    "sns.kdeplot(df_copy['Lot Frontage'], label='After Imputation (all values)', fill=True, alpha=0.5)\n",
    "\n",
    "plt.title('Distribution of Lot Frontage Before and After Imputation')\n",
    "plt.xlabel('Lot Frontage (ft)')\n",
    "plt.ylabel('Density')\n",
    "plt.legend()\n",
    "plt.show()"
   ]
  },
  {
   "cell_type": "code",
   "execution_count": 68,
   "id": "c0208fcf",
   "metadata": {},
   "outputs": [
    {
     "name": "stdout",
     "output_type": "stream",
     "text": [
      "Before Imputation:\n",
      "count    2440.000000\n",
      "mean       69.224590\n",
      "std        23.365335\n",
      "min        21.000000\n",
      "25%        58.000000\n",
      "50%        68.000000\n",
      "75%        80.000000\n",
      "max       313.000000\n",
      "Name: Lot Frontage, dtype: float64\n",
      "\n",
      "After Imputation:\n",
      "count    2929.000000\n",
      "mean       69.444520\n",
      "std        21.698759\n",
      "min        21.000000\n",
      "25%        60.000000\n",
      "50%        70.000000\n",
      "75%        80.000000\n",
      "max       313.000000\n",
      "Name: Lot Frontage, dtype: float64\n"
     ]
    }
   ],
   "source": [
    "print(\"Before Imputation:\")\n",
    "print(lot_frontage_before.describe())\n",
    "print(\"\\nAfter Imputation:\")\n",
    "print(df_copy['Lot Frontage'].describe())"
   ]
  },
  {
   "cell_type": "markdown",
   "id": "2c5e535b",
   "metadata": {},
   "source": [
    "Based on the minimal change in the overall statistics we can conclude that the inputation worked as intended.\n",
    "\n",
    "Next we will approuch all features linked to garage"
   ]
  },
  {
   "cell_type": "code",
   "execution_count": 85,
   "id": "152c57c2",
   "metadata": {},
   "outputs": [
    {
     "name": "stdout",
     "output_type": "stream",
     "text": [
      "Garage Qual       159\n",
      "Garage Finish     159\n",
      "Garage Yr Blt     159\n",
      "Garage Cond       159\n",
      "Garage Type       157\n",
      "Bsmt Exposure      83\n",
      "BsmtFin Type 2     81\n",
      "Bsmt Qual          80\n",
      "BsmtFin Type 1     80\n",
      "Bsmt Cond          80\n",
      "Bsmt Half Bath      2\n",
      "Bsmt Full Bath      2\n",
      "Total Bsmt SF       1\n",
      "BsmtFin SF 1        1\n",
      "BsmtFin SF 2        1\n",
      "Bsmt Unf SF         1\n",
      "Garage Area         1\n",
      "Electrical          1\n",
      "Garage Cars         1\n",
      "Year Built          0\n",
      "dtype: int64\n"
     ]
    }
   ],
   "source": [
    "missing = df_copy.isnull().sum().sort_values(ascending=False).head(20)\n",
    "print(missing)"
   ]
  },
  {
   "cell_type": "markdown",
   "id": "7a3fcd56",
   "metadata": {},
   "source": [
    "All but one garage features have the same amount of missing values."
   ]
  },
  {
   "cell_type": "code",
   "execution_count": 84,
   "id": "1cba7959",
   "metadata": {},
   "outputs": [
    {
     "data": {
      "text/html": [
       "<div>\n",
       "<style scoped>\n",
       "    .dataframe tbody tr th:only-of-type {\n",
       "        vertical-align: middle;\n",
       "    }\n",
       "\n",
       "    .dataframe tbody tr th {\n",
       "        vertical-align: top;\n",
       "    }\n",
       "\n",
       "    .dataframe thead th {\n",
       "        text-align: right;\n",
       "    }\n",
       "</style>\n",
       "<table border=\"1\" class=\"dataframe\">\n",
       "  <thead>\n",
       "    <tr style=\"text-align: right;\">\n",
       "      <th></th>\n",
       "      <th>Garage Type</th>\n",
       "      <th>Garage Yr Blt</th>\n",
       "      <th>Garage Finish</th>\n",
       "      <th>Garage Cars</th>\n",
       "      <th>Garage Area</th>\n",
       "      <th>Garage Qual</th>\n",
       "      <th>Garage Cond</th>\n",
       "    </tr>\n",
       "  </thead>\n",
       "  <tbody>\n",
       "    <tr>\n",
       "      <th>27</th>\n",
       "      <td>NaN</td>\n",
       "      <td>NaN</td>\n",
       "      <td>NaN</td>\n",
       "      <td>0.0</td>\n",
       "      <td>0.0</td>\n",
       "      <td>NaN</td>\n",
       "      <td>NaN</td>\n",
       "    </tr>\n",
       "    <tr>\n",
       "      <th>119</th>\n",
       "      <td>NaN</td>\n",
       "      <td>NaN</td>\n",
       "      <td>NaN</td>\n",
       "      <td>0.0</td>\n",
       "      <td>0.0</td>\n",
       "      <td>NaN</td>\n",
       "      <td>NaN</td>\n",
       "    </tr>\n",
       "    <tr>\n",
       "      <th>125</th>\n",
       "      <td>NaN</td>\n",
       "      <td>NaN</td>\n",
       "      <td>NaN</td>\n",
       "      <td>0.0</td>\n",
       "      <td>0.0</td>\n",
       "      <td>NaN</td>\n",
       "      <td>NaN</td>\n",
       "    </tr>\n",
       "    <tr>\n",
       "      <th>129</th>\n",
       "      <td>NaN</td>\n",
       "      <td>NaN</td>\n",
       "      <td>NaN</td>\n",
       "      <td>0.0</td>\n",
       "      <td>0.0</td>\n",
       "      <td>NaN</td>\n",
       "      <td>NaN</td>\n",
       "    </tr>\n",
       "    <tr>\n",
       "      <th>130</th>\n",
       "      <td>NaN</td>\n",
       "      <td>NaN</td>\n",
       "      <td>NaN</td>\n",
       "      <td>0.0</td>\n",
       "      <td>0.0</td>\n",
       "      <td>NaN</td>\n",
       "      <td>NaN</td>\n",
       "    </tr>\n",
       "    <tr>\n",
       "      <th>170</th>\n",
       "      <td>NaN</td>\n",
       "      <td>NaN</td>\n",
       "      <td>NaN</td>\n",
       "      <td>0.0</td>\n",
       "      <td>0.0</td>\n",
       "      <td>NaN</td>\n",
       "      <td>NaN</td>\n",
       "    </tr>\n",
       "    <tr>\n",
       "      <th>171</th>\n",
       "      <td>NaN</td>\n",
       "      <td>NaN</td>\n",
       "      <td>NaN</td>\n",
       "      <td>0.0</td>\n",
       "      <td>0.0</td>\n",
       "      <td>NaN</td>\n",
       "      <td>NaN</td>\n",
       "    </tr>\n",
       "    <tr>\n",
       "      <th>186</th>\n",
       "      <td>NaN</td>\n",
       "      <td>NaN</td>\n",
       "      <td>NaN</td>\n",
       "      <td>0.0</td>\n",
       "      <td>0.0</td>\n",
       "      <td>NaN</td>\n",
       "      <td>NaN</td>\n",
       "    </tr>\n",
       "    <tr>\n",
       "      <th>203</th>\n",
       "      <td>NaN</td>\n",
       "      <td>NaN</td>\n",
       "      <td>NaN</td>\n",
       "      <td>0.0</td>\n",
       "      <td>0.0</td>\n",
       "      <td>NaN</td>\n",
       "      <td>NaN</td>\n",
       "    </tr>\n",
       "    <tr>\n",
       "      <th>206</th>\n",
       "      <td>NaN</td>\n",
       "      <td>NaN</td>\n",
       "      <td>NaN</td>\n",
       "      <td>0.0</td>\n",
       "      <td>0.0</td>\n",
       "      <td>NaN</td>\n",
       "      <td>NaN</td>\n",
       "    </tr>\n",
       "  </tbody>\n",
       "</table>\n",
       "</div>"
      ],
      "text/plain": [
       "    Garage Type  Garage Yr Blt Garage Finish  Garage Cars  Garage Area  \\\n",
       "27          NaN            NaN           NaN          0.0          0.0   \n",
       "119         NaN            NaN           NaN          0.0          0.0   \n",
       "125         NaN            NaN           NaN          0.0          0.0   \n",
       "129         NaN            NaN           NaN          0.0          0.0   \n",
       "130         NaN            NaN           NaN          0.0          0.0   \n",
       "170         NaN            NaN           NaN          0.0          0.0   \n",
       "171         NaN            NaN           NaN          0.0          0.0   \n",
       "186         NaN            NaN           NaN          0.0          0.0   \n",
       "203         NaN            NaN           NaN          0.0          0.0   \n",
       "206         NaN            NaN           NaN          0.0          0.0   \n",
       "\n",
       "    Garage Qual Garage Cond  \n",
       "27          NaN         NaN  \n",
       "119         NaN         NaN  \n",
       "125         NaN         NaN  \n",
       "129         NaN         NaN  \n",
       "130         NaN         NaN  \n",
       "170         NaN         NaN  \n",
       "171         NaN         NaN  \n",
       "186         NaN         NaN  \n",
       "203         NaN         NaN  \n",
       "206         NaN         NaN  "
      ]
     },
     "execution_count": 84,
     "metadata": {},
     "output_type": "execute_result"
    }
   ],
   "source": [
    "df_copy.loc[df_copy['Garage Type'].isna(), ['Garage Type', 'Garage Yr Blt', 'Garage Finish', 'Garage Cars', 'Garage Area', 'Garage Qual', 'Garage Cond']].head(10)\n"
   ]
  },
  {
   "cell_type": "markdown",
   "id": "717952cc",
   "metadata": {},
   "source": [
    "All missing garage fields corespond to missing values in the garage type column."
   ]
  },
  {
   "cell_type": "code",
   "execution_count": 89,
   "id": "8d4539fb",
   "metadata": {},
   "outputs": [
    {
     "name": "stdout",
     "output_type": "stream",
     "text": [
      "Garage Type\n",
      "Attchd     1731\n",
      "Detchd      782\n",
      "BuiltIn     186\n",
      "NaN         157\n",
      "Basment      36\n",
      "2Types       23\n",
      "CarPort      15\n",
      "Name: count, dtype: int64\n"
     ]
    },
    {
     "data": {
      "text/plain": [
       "Garage Type\n",
       "CarPort    101800.0\n",
       "Detchd     129900.0\n",
       "Basment    145250.0\n",
       "2Types     150000.0\n",
       "Attchd     185000.0\n",
       "BuiltIn    229400.0\n",
       "Name: SalePrice, dtype: float64"
      ]
     },
     "execution_count": 89,
     "metadata": {},
     "output_type": "execute_result"
    }
   ],
   "source": [
    "print(clean_df['Garage Type'].value_counts(dropna=False))\n",
    "clean_df.groupby('Garage Type')['SalePrice'].median().sort_values()"
   ]
  },
  {
   "cell_type": "code",
   "execution_count": null,
   "id": "5269f551",
   "metadata": {},
   "outputs": [
    {
     "data": {
      "image/png": "[encoded data removed]",
      "text/plain": [
       "<Figure size 640x480 with 1 Axes>"
      ]
     },
     "metadata": {},
     "output_type": "display_data"
    }
   ],
   "source": [
    "order = ['CarPort', 'Detchd', 'Basement', '2Types', 'Atchd', 'BuiltIn']\n",
    "sns.boxplot(x='Garage Type', y='SalePrice', data=clean_df, order=order)\n",
    "plt.xlabel('Garage Type')\n",
    "plt.ylabel('Sale Price')\n",
    "plt.title('Sale Price vs Garage Type')\n",
    "plt.show()"
   ]
  },
  {
   "cell_type": "markdown",
   "id": "d021418d",
   "metadata": {},
   "source": [
    "For better compatibility to tree based models we will use one hot encoding for the Garage type feature."
   ]
  },
  {
   "cell_type": "code",
   "execution_count": 90,
   "id": "76a649b9",
   "metadata": {},
   "outputs": [],
   "source": [
    "garage_type_dummies = pd.get_dummies(df_copy['Garage Type'], prefix='GarageType', drop_first=False)\n",
    "df_copy = pd.concat([df_copy, garage_type_dummies], axis=1)\n",
    "df_copy.drop('Garage Type', axis=1, inplace=True)"
   ]
  },
  {
   "cell_type": "code",
   "execution_count": null,
   "id": "8e31b15d",
   "metadata": {},
   "outputs": [
    {
     "name": "stdout",
     "output_type": "stream",
     "text": [
      "Rows with all 0s in garage type columns: 157\n"
     ]
    },
    {
     "data": {
      "text/html": [
       "<div>\n",
       "<style scoped>\n",
       "    .dataframe tbody tr th:only-of-type {\n",
       "        vertical-align: middle;\n",
       "    }\n",
       "\n",
       "    .dataframe tbody tr th {\n",
       "        vertical-align: top;\n",
       "    }\n",
       "\n",
       "    .dataframe thead th {\n",
       "        text-align: right;\n",
       "    }\n",
       "</style>\n",
       "<table border=\"1\" class=\"dataframe\">\n",
       "  <thead>\n",
       "    <tr style=\"text-align: right;\">\n",
       "      <th></th>\n",
       "      <th>GarageType_2Types</th>\n",
       "      <th>GarageType_Attchd</th>\n",
       "      <th>GarageType_Basment</th>\n",
       "      <th>GarageType_BuiltIn</th>\n",
       "      <th>GarageType_CarPort</th>\n",
       "      <th>GarageType_Detchd</th>\n",
       "    </tr>\n",
       "  </thead>\n",
       "  <tbody>\n",
       "    <tr>\n",
       "      <th>27</th>\n",
       "      <td>False</td>\n",
       "      <td>False</td>\n",
       "      <td>False</td>\n",
       "      <td>False</td>\n",
       "      <td>False</td>\n",
       "      <td>False</td>\n",
       "    </tr>\n",
       "    <tr>\n",
       "      <th>119</th>\n",
       "      <td>False</td>\n",
       "      <td>False</td>\n",
       "      <td>False</td>\n",
       "      <td>False</td>\n",
       "      <td>False</td>\n",
       "      <td>False</td>\n",
       "    </tr>\n",
       "    <tr>\n",
       "      <th>125</th>\n",
       "      <td>False</td>\n",
       "      <td>False</td>\n",
       "      <td>False</td>\n",
       "      <td>False</td>\n",
       "      <td>False</td>\n",
       "      <td>False</td>\n",
       "    </tr>\n",
       "    <tr>\n",
       "      <th>129</th>\n",
       "      <td>False</td>\n",
       "      <td>False</td>\n",
       "      <td>False</td>\n",
       "      <td>False</td>\n",
       "      <td>False</td>\n",
       "      <td>False</td>\n",
       "    </tr>\n",
       "    <tr>\n",
       "      <th>130</th>\n",
       "      <td>False</td>\n",
       "      <td>False</td>\n",
       "      <td>False</td>\n",
       "      <td>False</td>\n",
       "      <td>False</td>\n",
       "      <td>False</td>\n",
       "    </tr>\n",
       "  </tbody>\n",
       "</table>\n",
       "</div>"
      ],
      "text/plain": [
       "     GarageType_2Types  GarageType_Attchd  GarageType_Basment  \\\n",
       "27               False              False               False   \n",
       "119              False              False               False   \n",
       "125              False              False               False   \n",
       "129              False              False               False   \n",
       "130              False              False               False   \n",
       "\n",
       "     GarageType_BuiltIn  GarageType_CarPort  GarageType_Detchd  \n",
       "27                False               False              False  \n",
       "119               False               False              False  \n",
       "125               False               False              False  \n",
       "129               False               False              False  \n",
       "130               False               False              False  "
      ]
     },
     "execution_count": 92,
     "metadata": {},
     "output_type": "execute_result"
    }
   ],
   "source": [
    "garage_cols = [col for col in df_copy.columns if col.startswith('GarageType_')]\n",
    "\n",
    "# Check rows where all dummy columns are 0\n",
    "no_garage_rows = df_copy[garage_cols].sum(axis=1) == 0\n",
    "\n",
    "# Count how many rows that is\n",
    "print(\"Rows with all 0s in garage type columns:\", no_garage_rows.sum())\n",
    "\n",
    "df_copy.loc[no_garage_rows, garage_cols].head()\n"
   ]
  },
  {
   "cell_type": "markdown",
   "id": "30b4b91c",
   "metadata": {},
   "source": [
    "We cheked if NaN values where handled correctly, we have 157 rows with full 0 values => succes."
   ]
  },
  {
   "cell_type": "code",
   "execution_count": null,
   "id": "0bed96da",
   "metadata": {},
   "outputs": [
    {
     "name": "stdout",
     "output_type": "stream",
     "text": [
      "Garage Yr Blt\n",
      "NaN       159\n",
      "2005.0    142\n",
      "2006.0    115\n",
      "2007.0    115\n",
      "2004.0     99\n",
      "         ... \n",
      "1908.0      1\n",
      "1933.0      1\n",
      "2207.0      1\n",
      "1943.0      1\n",
      "1919.0      1\n",
      "Name: count, Length: 104, dtype: int64\n"
     ]
    }
   ],
   "source": [
    "print(clean_df['Garage Yr Blt'].value_counts(dropna=False))\n"
   ]
  },
  {
   "cell_type": "markdown",
   "id": "f625d16a",
   "metadata": {},
   "source": [
    "The next step is converting the construction year of the garage to the age of the garage for the year it was sold in and replacing missing values with maxInt(worst case for when a garage does not exist)."
   ]
  },
  {
   "cell_type": "code",
   "execution_count": 95,
   "id": "2c069dbd",
   "metadata": {},
   "outputs": [],
   "source": [
    "df_copy['Garage_Age'] = df_copy['Yr Sold'] - df_copy['Garage Yr Blt']\n",
    "df_copy['Garage_Age'] = df_copy['Garage_Age'].fillna(df_copy['Garage_Age'].max() + 1)\n",
    "df_copy.drop('Garage Yr Blt', axis=1, inplace=True)"
   ]
  },
  {
   "cell_type": "code",
   "execution_count": 100,
   "id": "1c04a9aa",
   "metadata": {},
   "outputs": [
    {
     "name": "stdout",
     "output_type": "stream",
     "text": [
      "count    2929.000000\n",
      "mean       34.282008\n",
      "std        31.504321\n",
      "min      -200.000000\n",
      "25%         7.000000\n",
      "50%        30.000000\n",
      "75%        51.000000\n",
      "max       115.000000\n",
      "Name: Garage_Age, dtype: float64\n",
      "0\n"
     ]
    }
   ],
   "source": [
    "print(df_copy['Garage_Age'].describe())\n",
    "print(df_copy['Garage_Age'].isna().sum())"
   ]
  },
  {
   "cell_type": "code",
   "execution_count": 104,
   "id": "fed807b1",
   "metadata": {},
   "outputs": [
    {
     "data": {
      "text/plain": [
       "2180     -1.0\n",
       "2260   -200.0\n",
       "Name: Garage_Age, dtype: float64"
      ]
     },
     "execution_count": 104,
     "metadata": {},
     "output_type": "execute_result"
    }
   ],
   "source": [
    "df_copy[df_copy['Garage_Age'] < 0]['Garage_Age'].head(10)"
   ]
  },
  {
   "cell_type": "code",
   "execution_count": 106,
   "id": "76480637",
   "metadata": {},
   "outputs": [
    {
     "name": "stdout",
     "output_type": "stream",
     "text": [
      "      Garage Yr Blt Garage Type Garage Finish Garage Qual Garage Cond  \\\n",
      "2180         2008.0      Attchd           Fin          TA          TA   \n",
      "2260         2207.0      Attchd           RFn          TA          TA   \n",
      "\n",
      "      Garage Cars  Garage Area  Yr Sold  \n",
      "2180          3.0       1154.0     2007  \n",
      "2260          2.0        502.0     2007  \n"
     ]
    }
   ],
   "source": [
    "# Align mask to clean_df\n",
    "aligned_mask = mask.reindex(clean_df.index, fill_value=False)\n",
    "\n",
    "# Now use it safely\n",
    "cols = ['Garage Yr Blt', 'Garage Type', 'Garage Finish', 'Garage Qual', \n",
    "        'Garage Cond', 'Garage Cars', 'Garage Area', 'Yr Sold']\n",
    "\n",
    "print(clean_df.loc[aligned_mask, cols])\n",
    "\n"
   ]
  },
  {
   "cell_type": "markdown",
   "id": "ae741b63",
   "metadata": {},
   "source": [
    "Thesw 2 rows are corupted so we will remove them from our df copy."
   ]
  },
  {
   "cell_type": "code",
   "execution_count": 108,
   "id": "39ed9880",
   "metadata": {},
   "outputs": [
    {
     "name": "stdout",
     "output_type": "stream",
     "text": [
      "Removed 2 invalid rows. New shape: (2927, 86)\n"
     ]
    }
   ],
   "source": [
    "# Indices of bad rows\n",
    "bad_idx = [2180, 2260]\n",
    "\n",
    "df_copy = df_copy.drop(index=bad_idx)\n",
    "\n",
    "print(f\"Removed {len(bad_idx)} invalid rows. New shape: {df_copy.shape}\")\n"
   ]
  },
  {
   "cell_type": "code",
   "execution_count": 109,
   "id": "7cf4018e",
   "metadata": {},
   "outputs": [
    {
     "name": "stdout",
     "output_type": "stream",
     "text": [
      "count    2927.000000\n",
      "mean       34.374103\n",
      "std        31.209101\n",
      "min         0.000000\n",
      "25%         7.000000\n",
      "50%        30.000000\n",
      "75%        51.000000\n",
      "max       115.000000\n",
      "Name: Garage_Age, dtype: float64\n"
     ]
    }
   ],
   "source": [
    "print(df_copy['Garage_Age'].describe())"
   ]
  },
  {
   "cell_type": "code",
   "execution_count": 117,
   "id": "d048a62f",
   "metadata": {},
   "outputs": [
    {
     "name": "stdout",
     "output_type": "stream",
     "text": [
      "159\n"
     ]
    }
   ],
   "source": [
    "print((df_copy['Garage_Age'] == 115).sum()\n",
    ")\n",
    "\n"
   ]
  }
 ],
 "metadata": {
  "kernelspec": {
   "display_name": ".venv",
   "language": "python",
   "name": "python3"
  },
  "language_info": {
   "codemirror_mode": {
    "name": "ipython",
    "version": 3
   },
   "file_extension": ".py",
   "mimetype": "text/x-python",
   "name": "python",
   "nbconvert_exporter": "python",
   "pygments_lexer": "ipython3",
   "version": "3.13.8"
  }
 },
 "nbformat": 4,
 "nbformat_minor": 5
}
